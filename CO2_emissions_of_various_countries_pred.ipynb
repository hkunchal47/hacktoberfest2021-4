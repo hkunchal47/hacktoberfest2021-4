{
  "nbformat": 4,
  "nbformat_minor": 0,
  "metadata": {
    "kernelspec": {
      "display_name": "Python 3",
      "language": "python",
      "name": "python3"
    },
    "language_info": {
      "codemirror_mode": {
        "name": "ipython",
        "version": 3
      },
      "file_extension": ".py",
      "mimetype": "text/x-python",
      "name": "python",
      "nbconvert_exporter": "python",
      "pygments_lexer": "ipython3",
      "version": "3.7.4"
    },
    "colab": {
      "name": "CO2 emissions of various countries_pred.ipynb",
      "provenance": []
    }
  },
  "cells": [
    {
      "cell_type": "markdown",
      "metadata": {
        "id": "r68X9vRfYZd1"
      },
      "source": [
        "# Step 1: Data Loding and Understanding"
      ]
    },
    {
      "cell_type": "code",
      "metadata": {
        "id": "unF-07IXYZd1"
      },
      "source": [
        "import numpy as np\n",
        "import pandas as pd\n",
        "import matplotlib.pyplot as plt\n",
        "import seaborn as sns\n",
        "from sklearn import linear_model\n",
        "from sklearn.linear_model import LinearRegression\n",
        "from sklearn.linear_model import Ridge\n",
        "from sklearn.linear_model import Lasso\n",
        "from sklearn.model_selection import GridSearchCV\n",
        "\n",
        "import os\n",
        "\n",
        "# hide warnings\n",
        "import warnings\n",
        "warnings.filterwarnings('ignore')"
      ],
      "execution_count": null,
      "outputs": []
    },
    {
      "cell_type": "code",
      "metadata": {
        "collapsed": true,
        "id": "_qIiTdNOYZd1",
        "outputId": "57827447-137a-43c6-9698-fdd2a53cfa5f"
      },
      "source": [
        "# reading the csv files\n",
        "cars= pd.read_csv(\"C:\\\\Users\\\\NAMAN\\\\Desktop\\\\MLass\\\\co2_prediction\\\\cars_trucks_and_buses_per_1000_persons.csv\")\n",
        "co2=pd.read_csv(\"C:\\\\Users\\\\NAMAN\\\\Desktop\\\\MLass\\\\co2_prediction\\\\co2_emissions_tonnes_per_person.csv\")\n",
        "coal=pd.read_csv(\"C:\\\\Users\\\\NAMAN\\\\Desktop\\\\MLass\\\\co2_prediction\\\\coal_consumption_per_cap.csv\")\n",
        "ele_gen=pd.read_csv(\"C:\\\\Users\\\\NAMAN\\\\Desktop\\\\MLass\\\\co2_prediction\\\\electricity_generation_per_person.csv\")\n",
        "ele_use=pd.read_csv(\"C:\\\\Users\\\\NAMAN\\\\Desktop\\\\MLass\\\\co2_prediction\\\\electricity_use_per_person.csv\")\n",
        "forest=pd.read_csv(\"C:\\\\Users\\\\NAMAN\\\\Desktop\\\\MLass\\\\co2_prediction\\\\forest_coverage_percent.csv\")\n",
        "hydro=pd.read_csv(\"C:\\\\Users\\\\NAMAN\\\\Desktop\\\\MLass\\\\co2_prediction\\\\hydro_power_generation_per_person.csv\")\n",
        "income=pd.read_csv(\"C:\\\\Users\\\\NAMAN\\\\Desktop\\\\MLass\\\\co2_prediction\\\\income_per_person_gdppercapita_ppp_inflation_adjusted.csv\")\n",
        "industry=pd.read_csv(\"C:\\\\Users\\\\NAMAN\\\\Desktop\\\\MLass\\\\co2_prediction\\\\industry_percent_of_gdp.csv\")\n",
        "natural=pd.read_csv(\"C:\\\\Users\\\\NAMAN\\\\Desktop\\\\MLass\\\\co2_prediction\\\\natural_gas_production_per_person.csv\")\n",
        "oil_con=pd.read_csv(\"C:\\\\Users\\\\NAMAN\\\\Desktop\\\\MLass\\\\co2_prediction\\\\oil_consumption_per_cap.csv\")\n",
        "oil_pro=pd.read_csv(\"C:\\\\Users\\\\NAMAN\\\\Desktop\\\\MLass\\\\co2_prediction\\\\oil_production_per_person.csv\")\n",
        "year=pd.read_csv(\"C:\\\\Users\\\\NAMAN\\\\Desktop\\\\MLass\\\\co2_prediction\\\\yearly_co2_emissions_1000_tonnes.csv\")"
      ],
      "execution_count": null,
      "outputs": [
        {
          "output_type": "error",
          "ename": "FileNotFoundError",
          "evalue": "[Errno 2] File b'C:\\\\Users\\\\NAMAN\\\\Desktop\\\\MLass\\\\co2_prediction\\\\cars_trucks_and_buses_per_1000_persons.csv' does not exist: b'C:\\\\Users\\\\NAMAN\\\\Desktop\\\\MLass\\\\co2_prediction\\\\cars_trucks_and_buses_per_1000_persons.csv'",
          "traceback": [
            "\u001b[1;31m---------------------------------------------------------------------------\u001b[0m",
            "\u001b[1;31mFileNotFoundError\u001b[0m                         Traceback (most recent call last)",
            "\u001b[1;32m<ipython-input-3-ad36cf50ca52>\u001b[0m in \u001b[0;36m<module>\u001b[1;34m\u001b[0m\n\u001b[0;32m      1\u001b[0m \u001b[1;31m# reading the csv files\u001b[0m\u001b[1;33m\u001b[0m\u001b[1;33m\u001b[0m\u001b[1;33m\u001b[0m\u001b[0m\n\u001b[1;32m----> 2\u001b[1;33m \u001b[0mcars\u001b[0m\u001b[1;33m=\u001b[0m \u001b[0mpd\u001b[0m\u001b[1;33m.\u001b[0m\u001b[0mread_csv\u001b[0m\u001b[1;33m(\u001b[0m\u001b[1;34m\"C:\\\\Users\\\\NAMAN\\\\Desktop\\\\MLass\\\\co2_prediction\\\\cars_trucks_and_buses_per_1000_persons.csv\"\u001b[0m\u001b[1;33m)\u001b[0m\u001b[1;33m\u001b[0m\u001b[1;33m\u001b[0m\u001b[0m\n\u001b[0m\u001b[0;32m      3\u001b[0m \u001b[0mco2\u001b[0m\u001b[1;33m=\u001b[0m\u001b[0mpd\u001b[0m\u001b[1;33m.\u001b[0m\u001b[0mread_csv\u001b[0m\u001b[1;33m(\u001b[0m\u001b[1;34m\"C:\\\\Users\\\\NAMAN\\\\Desktop\\\\MLass\\\\co2_prediction\\\\co2_emissions_tonnes_per_person.csv\"\u001b[0m\u001b[1;33m)\u001b[0m\u001b[1;33m\u001b[0m\u001b[1;33m\u001b[0m\u001b[0m\n\u001b[0;32m      4\u001b[0m \u001b[0mcoal\u001b[0m\u001b[1;33m=\u001b[0m\u001b[0mpd\u001b[0m\u001b[1;33m.\u001b[0m\u001b[0mread_csv\u001b[0m\u001b[1;33m(\u001b[0m\u001b[1;34m\"C:\\\\Users\\\\NAMAN\\\\Desktop\\\\MLass\\\\co2_prediction\\\\coal_consumption_per_cap.csv\"\u001b[0m\u001b[1;33m)\u001b[0m\u001b[1;33m\u001b[0m\u001b[1;33m\u001b[0m\u001b[0m\n\u001b[0;32m      5\u001b[0m \u001b[0mele_gen\u001b[0m\u001b[1;33m=\u001b[0m\u001b[0mpd\u001b[0m\u001b[1;33m.\u001b[0m\u001b[0mread_csv\u001b[0m\u001b[1;33m(\u001b[0m\u001b[1;34m\"C:\\\\Users\\\\NAMAN\\\\Desktop\\\\MLass\\\\co2_prediction\\\\electricity_generation_per_person.csv\"\u001b[0m\u001b[1;33m)\u001b[0m\u001b[1;33m\u001b[0m\u001b[1;33m\u001b[0m\u001b[0m\n",
            "\u001b[1;32m~\\Anaconda3\\lib\\site-packages\\pandas\\io\\parsers.py\u001b[0m in \u001b[0;36mparser_f\u001b[1;34m(filepath_or_buffer, sep, delimiter, header, names, index_col, usecols, squeeze, prefix, mangle_dupe_cols, dtype, engine, converters, true_values, false_values, skipinitialspace, skiprows, skipfooter, nrows, na_values, keep_default_na, na_filter, verbose, skip_blank_lines, parse_dates, infer_datetime_format, keep_date_col, date_parser, dayfirst, cache_dates, iterator, chunksize, compression, thousands, decimal, lineterminator, quotechar, quoting, doublequote, escapechar, comment, encoding, dialect, error_bad_lines, warn_bad_lines, delim_whitespace, low_memory, memory_map, float_precision)\u001b[0m\n\u001b[0;32m    683\u001b[0m         )\n\u001b[0;32m    684\u001b[0m \u001b[1;33m\u001b[0m\u001b[0m\n\u001b[1;32m--> 685\u001b[1;33m         \u001b[1;32mreturn\u001b[0m \u001b[0m_read\u001b[0m\u001b[1;33m(\u001b[0m\u001b[0mfilepath_or_buffer\u001b[0m\u001b[1;33m,\u001b[0m \u001b[0mkwds\u001b[0m\u001b[1;33m)\u001b[0m\u001b[1;33m\u001b[0m\u001b[1;33m\u001b[0m\u001b[0m\n\u001b[0m\u001b[0;32m    686\u001b[0m \u001b[1;33m\u001b[0m\u001b[0m\n\u001b[0;32m    687\u001b[0m     \u001b[0mparser_f\u001b[0m\u001b[1;33m.\u001b[0m\u001b[0m__name__\u001b[0m \u001b[1;33m=\u001b[0m \u001b[0mname\u001b[0m\u001b[1;33m\u001b[0m\u001b[1;33m\u001b[0m\u001b[0m\n",
            "\u001b[1;32m~\\Anaconda3\\lib\\site-packages\\pandas\\io\\parsers.py\u001b[0m in \u001b[0;36m_read\u001b[1;34m(filepath_or_buffer, kwds)\u001b[0m\n\u001b[0;32m    455\u001b[0m \u001b[1;33m\u001b[0m\u001b[0m\n\u001b[0;32m    456\u001b[0m     \u001b[1;31m# Create the parser.\u001b[0m\u001b[1;33m\u001b[0m\u001b[1;33m\u001b[0m\u001b[1;33m\u001b[0m\u001b[0m\n\u001b[1;32m--> 457\u001b[1;33m     \u001b[0mparser\u001b[0m \u001b[1;33m=\u001b[0m \u001b[0mTextFileReader\u001b[0m\u001b[1;33m(\u001b[0m\u001b[0mfp_or_buf\u001b[0m\u001b[1;33m,\u001b[0m \u001b[1;33m**\u001b[0m\u001b[0mkwds\u001b[0m\u001b[1;33m)\u001b[0m\u001b[1;33m\u001b[0m\u001b[1;33m\u001b[0m\u001b[0m\n\u001b[0m\u001b[0;32m    458\u001b[0m \u001b[1;33m\u001b[0m\u001b[0m\n\u001b[0;32m    459\u001b[0m     \u001b[1;32mif\u001b[0m \u001b[0mchunksize\u001b[0m \u001b[1;32mor\u001b[0m \u001b[0miterator\u001b[0m\u001b[1;33m:\u001b[0m\u001b[1;33m\u001b[0m\u001b[1;33m\u001b[0m\u001b[0m\n",
            "\u001b[1;32m~\\Anaconda3\\lib\\site-packages\\pandas\\io\\parsers.py\u001b[0m in \u001b[0;36m__init__\u001b[1;34m(self, f, engine, **kwds)\u001b[0m\n\u001b[0;32m    893\u001b[0m             \u001b[0mself\u001b[0m\u001b[1;33m.\u001b[0m\u001b[0moptions\u001b[0m\u001b[1;33m[\u001b[0m\u001b[1;34m\"has_index_names\"\u001b[0m\u001b[1;33m]\u001b[0m \u001b[1;33m=\u001b[0m \u001b[0mkwds\u001b[0m\u001b[1;33m[\u001b[0m\u001b[1;34m\"has_index_names\"\u001b[0m\u001b[1;33m]\u001b[0m\u001b[1;33m\u001b[0m\u001b[1;33m\u001b[0m\u001b[0m\n\u001b[0;32m    894\u001b[0m \u001b[1;33m\u001b[0m\u001b[0m\n\u001b[1;32m--> 895\u001b[1;33m         \u001b[0mself\u001b[0m\u001b[1;33m.\u001b[0m\u001b[0m_make_engine\u001b[0m\u001b[1;33m(\u001b[0m\u001b[0mself\u001b[0m\u001b[1;33m.\u001b[0m\u001b[0mengine\u001b[0m\u001b[1;33m)\u001b[0m\u001b[1;33m\u001b[0m\u001b[1;33m\u001b[0m\u001b[0m\n\u001b[0m\u001b[0;32m    896\u001b[0m \u001b[1;33m\u001b[0m\u001b[0m\n\u001b[0;32m    897\u001b[0m     \u001b[1;32mdef\u001b[0m \u001b[0mclose\u001b[0m\u001b[1;33m(\u001b[0m\u001b[0mself\u001b[0m\u001b[1;33m)\u001b[0m\u001b[1;33m:\u001b[0m\u001b[1;33m\u001b[0m\u001b[1;33m\u001b[0m\u001b[0m\n",
            "\u001b[1;32m~\\Anaconda3\\lib\\site-packages\\pandas\\io\\parsers.py\u001b[0m in \u001b[0;36m_make_engine\u001b[1;34m(self, engine)\u001b[0m\n\u001b[0;32m   1133\u001b[0m     \u001b[1;32mdef\u001b[0m \u001b[0m_make_engine\u001b[0m\u001b[1;33m(\u001b[0m\u001b[0mself\u001b[0m\u001b[1;33m,\u001b[0m \u001b[0mengine\u001b[0m\u001b[1;33m=\u001b[0m\u001b[1;34m\"c\"\u001b[0m\u001b[1;33m)\u001b[0m\u001b[1;33m:\u001b[0m\u001b[1;33m\u001b[0m\u001b[1;33m\u001b[0m\u001b[0m\n\u001b[0;32m   1134\u001b[0m         \u001b[1;32mif\u001b[0m \u001b[0mengine\u001b[0m \u001b[1;33m==\u001b[0m \u001b[1;34m\"c\"\u001b[0m\u001b[1;33m:\u001b[0m\u001b[1;33m\u001b[0m\u001b[1;33m\u001b[0m\u001b[0m\n\u001b[1;32m-> 1135\u001b[1;33m             \u001b[0mself\u001b[0m\u001b[1;33m.\u001b[0m\u001b[0m_engine\u001b[0m \u001b[1;33m=\u001b[0m \u001b[0mCParserWrapper\u001b[0m\u001b[1;33m(\u001b[0m\u001b[0mself\u001b[0m\u001b[1;33m.\u001b[0m\u001b[0mf\u001b[0m\u001b[1;33m,\u001b[0m \u001b[1;33m**\u001b[0m\u001b[0mself\u001b[0m\u001b[1;33m.\u001b[0m\u001b[0moptions\u001b[0m\u001b[1;33m)\u001b[0m\u001b[1;33m\u001b[0m\u001b[1;33m\u001b[0m\u001b[0m\n\u001b[0m\u001b[0;32m   1136\u001b[0m         \u001b[1;32melse\u001b[0m\u001b[1;33m:\u001b[0m\u001b[1;33m\u001b[0m\u001b[1;33m\u001b[0m\u001b[0m\n\u001b[0;32m   1137\u001b[0m             \u001b[1;32mif\u001b[0m \u001b[0mengine\u001b[0m \u001b[1;33m==\u001b[0m \u001b[1;34m\"python\"\u001b[0m\u001b[1;33m:\u001b[0m\u001b[1;33m\u001b[0m\u001b[1;33m\u001b[0m\u001b[0m\n",
            "\u001b[1;32m~\\Anaconda3\\lib\\site-packages\\pandas\\io\\parsers.py\u001b[0m in \u001b[0;36m__init__\u001b[1;34m(self, src, **kwds)\u001b[0m\n\u001b[0;32m   1915\u001b[0m         \u001b[0mkwds\u001b[0m\u001b[1;33m[\u001b[0m\u001b[1;34m\"usecols\"\u001b[0m\u001b[1;33m]\u001b[0m \u001b[1;33m=\u001b[0m \u001b[0mself\u001b[0m\u001b[1;33m.\u001b[0m\u001b[0musecols\u001b[0m\u001b[1;33m\u001b[0m\u001b[1;33m\u001b[0m\u001b[0m\n\u001b[0;32m   1916\u001b[0m \u001b[1;33m\u001b[0m\u001b[0m\n\u001b[1;32m-> 1917\u001b[1;33m         \u001b[0mself\u001b[0m\u001b[1;33m.\u001b[0m\u001b[0m_reader\u001b[0m \u001b[1;33m=\u001b[0m \u001b[0mparsers\u001b[0m\u001b[1;33m.\u001b[0m\u001b[0mTextReader\u001b[0m\u001b[1;33m(\u001b[0m\u001b[0msrc\u001b[0m\u001b[1;33m,\u001b[0m \u001b[1;33m**\u001b[0m\u001b[0mkwds\u001b[0m\u001b[1;33m)\u001b[0m\u001b[1;33m\u001b[0m\u001b[1;33m\u001b[0m\u001b[0m\n\u001b[0m\u001b[0;32m   1918\u001b[0m         \u001b[0mself\u001b[0m\u001b[1;33m.\u001b[0m\u001b[0munnamed_cols\u001b[0m \u001b[1;33m=\u001b[0m \u001b[0mself\u001b[0m\u001b[1;33m.\u001b[0m\u001b[0m_reader\u001b[0m\u001b[1;33m.\u001b[0m\u001b[0munnamed_cols\u001b[0m\u001b[1;33m\u001b[0m\u001b[1;33m\u001b[0m\u001b[0m\n\u001b[0;32m   1919\u001b[0m \u001b[1;33m\u001b[0m\u001b[0m\n",
            "\u001b[1;32mpandas\\_libs\\parsers.pyx\u001b[0m in \u001b[0;36mpandas._libs.parsers.TextReader.__cinit__\u001b[1;34m()\u001b[0m\n",
            "\u001b[1;32mpandas\\_libs\\parsers.pyx\u001b[0m in \u001b[0;36mpandas._libs.parsers.TextReader._setup_parser_source\u001b[1;34m()\u001b[0m\n",
            "\u001b[1;31mFileNotFoundError\u001b[0m: [Errno 2] File b'C:\\\\Users\\\\NAMAN\\\\Desktop\\\\MLass\\\\co2_prediction\\\\cars_trucks_and_buses_per_1000_persons.csv' does not exist: b'C:\\\\Users\\\\NAMAN\\\\Desktop\\\\MLass\\\\co2_prediction\\\\cars_trucks_and_buses_per_1000_persons.csv'"
          ]
        }
      ]
    },
    {
      "cell_type": "code",
      "metadata": {
        "id": "xH8O2TsLYZd2",
        "outputId": "8d9f844c-4f60-45f8-ab1a-4fcbe58bf143"
      },
      "source": [
        "cars.head()"
      ],
      "execution_count": null,
      "outputs": [
        {
          "output_type": "execute_result",
          "data": {
            "text/html": [
              "<div>\n",
              "<style scoped>\n",
              "    .dataframe tbody tr th:only-of-type {\n",
              "        vertical-align: middle;\n",
              "    }\n",
              "\n",
              "    .dataframe tbody tr th {\n",
              "        vertical-align: top;\n",
              "    }\n",
              "\n",
              "    .dataframe thead th {\n",
              "        text-align: right;\n",
              "    }\n",
              "</style>\n",
              "<table border=\"1\" class=\"dataframe\">\n",
              "  <thead>\n",
              "    <tr style=\"text-align: right;\">\n",
              "      <th></th>\n",
              "      <th>geo</th>\n",
              "      <th>2002</th>\n",
              "      <th>2003</th>\n",
              "      <th>2004</th>\n",
              "      <th>2005</th>\n",
              "      <th>2006</th>\n",
              "      <th>2007</th>\n",
              "    </tr>\n",
              "  </thead>\n",
              "  <tbody>\n",
              "    <tr>\n",
              "      <td>0</td>\n",
              "      <td>Afghanistan</td>\n",
              "      <td>NaN</td>\n",
              "      <td>NaN</td>\n",
              "      <td>NaN</td>\n",
              "      <td>NaN</td>\n",
              "      <td>NaN</td>\n",
              "      <td>22.8</td>\n",
              "    </tr>\n",
              "    <tr>\n",
              "      <td>1</td>\n",
              "      <td>Albania</td>\n",
              "      <td>73.0</td>\n",
              "      <td>NaN</td>\n",
              "      <td>85.0</td>\n",
              "      <td>87.5</td>\n",
              "      <td>97.3</td>\n",
              "      <td>102.0</td>\n",
              "    </tr>\n",
              "    <tr>\n",
              "      <td>2</td>\n",
              "      <td>Algeria</td>\n",
              "      <td>NaN</td>\n",
              "      <td>88.0</td>\n",
              "      <td>89.0</td>\n",
              "      <td>91.0</td>\n",
              "      <td>NaN</td>\n",
              "      <td>NaN</td>\n",
              "    </tr>\n",
              "    <tr>\n",
              "      <td>3</td>\n",
              "      <td>Angola</td>\n",
              "      <td>NaN</td>\n",
              "      <td>NaN</td>\n",
              "      <td>NaN</td>\n",
              "      <td>NaN</td>\n",
              "      <td>NaN</td>\n",
              "      <td>39.6</td>\n",
              "    </tr>\n",
              "    <tr>\n",
              "      <td>4</td>\n",
              "      <td>Argentina</td>\n",
              "      <td>NaN</td>\n",
              "      <td>NaN</td>\n",
              "      <td>NaN</td>\n",
              "      <td>NaN</td>\n",
              "      <td>NaN</td>\n",
              "      <td>314.0</td>\n",
              "    </tr>\n",
              "  </tbody>\n",
              "</table>\n",
              "</div>"
            ],
            "text/plain": [
              "           geo  2002  2003  2004  2005  2006   2007\n",
              "0  Afghanistan   NaN   NaN   NaN   NaN   NaN   22.8\n",
              "1      Albania  73.0   NaN  85.0  87.5  97.3  102.0\n",
              "2      Algeria   NaN  88.0  89.0  91.0   NaN    NaN\n",
              "3       Angola   NaN   NaN   NaN   NaN   NaN   39.6\n",
              "4    Argentina   NaN   NaN   NaN   NaN   NaN  314.0"
            ]
          },
          "metadata": {
            "tags": []
          },
          "execution_count": 4
        }
      ]
    },
    {
      "cell_type": "code",
      "metadata": {
        "id": "rOMxX9DLYZd2",
        "outputId": "4081d504-8a17-477f-b451-05ed72589dc5"
      },
      "source": [
        "co2.head()"
      ],
      "execution_count": null,
      "outputs": [
        {
          "output_type": "execute_result",
          "data": {
            "text/html": [
              "<div>\n",
              "<style scoped>\n",
              "    .dataframe tbody tr th:only-of-type {\n",
              "        vertical-align: middle;\n",
              "    }\n",
              "\n",
              "    .dataframe tbody tr th {\n",
              "        vertical-align: top;\n",
              "    }\n",
              "\n",
              "    .dataframe thead th {\n",
              "        text-align: right;\n",
              "    }\n",
              "</style>\n",
              "<table border=\"1\" class=\"dataframe\">\n",
              "  <thead>\n",
              "    <tr style=\"text-align: right;\">\n",
              "      <th></th>\n",
              "      <th>geo</th>\n",
              "      <th>1800</th>\n",
              "      <th>1801</th>\n",
              "      <th>1802</th>\n",
              "      <th>1803</th>\n",
              "      <th>1804</th>\n",
              "      <th>1805</th>\n",
              "      <th>1806</th>\n",
              "      <th>1807</th>\n",
              "      <th>1808</th>\n",
              "      <th>...</th>\n",
              "      <th>2005</th>\n",
              "      <th>2006</th>\n",
              "      <th>2007</th>\n",
              "      <th>2008</th>\n",
              "      <th>2009</th>\n",
              "      <th>2010</th>\n",
              "      <th>2011</th>\n",
              "      <th>2012</th>\n",
              "      <th>2013</th>\n",
              "      <th>2014</th>\n",
              "    </tr>\n",
              "  </thead>\n",
              "  <tbody>\n",
              "    <tr>\n",
              "      <td>0</td>\n",
              "      <td>Afghanistan</td>\n",
              "      <td>NaN</td>\n",
              "      <td>NaN</td>\n",
              "      <td>NaN</td>\n",
              "      <td>NaN</td>\n",
              "      <td>NaN</td>\n",
              "      <td>NaN</td>\n",
              "      <td>NaN</td>\n",
              "      <td>NaN</td>\n",
              "      <td>NaN</td>\n",
              "      <td>...</td>\n",
              "      <td>0.0529</td>\n",
              "      <td>0.0637</td>\n",
              "      <td>0.0854</td>\n",
              "      <td>0.154</td>\n",
              "      <td>0.242</td>\n",
              "      <td>0.294</td>\n",
              "      <td>0.412</td>\n",
              "      <td>0.35</td>\n",
              "      <td>0.316</td>\n",
              "      <td>0.299</td>\n",
              "    </tr>\n",
              "    <tr>\n",
              "      <td>1</td>\n",
              "      <td>Albania</td>\n",
              "      <td>NaN</td>\n",
              "      <td>NaN</td>\n",
              "      <td>NaN</td>\n",
              "      <td>NaN</td>\n",
              "      <td>NaN</td>\n",
              "      <td>NaN</td>\n",
              "      <td>NaN</td>\n",
              "      <td>NaN</td>\n",
              "      <td>NaN</td>\n",
              "      <td>...</td>\n",
              "      <td>1.3800</td>\n",
              "      <td>1.2800</td>\n",
              "      <td>1.3000</td>\n",
              "      <td>1.460</td>\n",
              "      <td>1.480</td>\n",
              "      <td>1.560</td>\n",
              "      <td>1.790</td>\n",
              "      <td>1.68</td>\n",
              "      <td>1.730</td>\n",
              "      <td>1.960</td>\n",
              "    </tr>\n",
              "    <tr>\n",
              "      <td>2</td>\n",
              "      <td>Algeria</td>\n",
              "      <td>NaN</td>\n",
              "      <td>NaN</td>\n",
              "      <td>NaN</td>\n",
              "      <td>NaN</td>\n",
              "      <td>NaN</td>\n",
              "      <td>NaN</td>\n",
              "      <td>NaN</td>\n",
              "      <td>NaN</td>\n",
              "      <td>NaN</td>\n",
              "      <td>...</td>\n",
              "      <td>3.2200</td>\n",
              "      <td>2.9900</td>\n",
              "      <td>3.1900</td>\n",
              "      <td>3.160</td>\n",
              "      <td>3.420</td>\n",
              "      <td>3.300</td>\n",
              "      <td>3.290</td>\n",
              "      <td>3.46</td>\n",
              "      <td>3.510</td>\n",
              "      <td>3.720</td>\n",
              "    </tr>\n",
              "    <tr>\n",
              "      <td>3</td>\n",
              "      <td>Andorra</td>\n",
              "      <td>NaN</td>\n",
              "      <td>NaN</td>\n",
              "      <td>NaN</td>\n",
              "      <td>NaN</td>\n",
              "      <td>NaN</td>\n",
              "      <td>NaN</td>\n",
              "      <td>NaN</td>\n",
              "      <td>NaN</td>\n",
              "      <td>NaN</td>\n",
              "      <td>...</td>\n",
              "      <td>7.3000</td>\n",
              "      <td>6.7500</td>\n",
              "      <td>6.5200</td>\n",
              "      <td>6.430</td>\n",
              "      <td>6.120</td>\n",
              "      <td>6.120</td>\n",
              "      <td>5.870</td>\n",
              "      <td>5.92</td>\n",
              "      <td>5.900</td>\n",
              "      <td>5.830</td>\n",
              "    </tr>\n",
              "    <tr>\n",
              "      <td>4</td>\n",
              "      <td>Angola</td>\n",
              "      <td>NaN</td>\n",
              "      <td>NaN</td>\n",
              "      <td>NaN</td>\n",
              "      <td>NaN</td>\n",
              "      <td>NaN</td>\n",
              "      <td>NaN</td>\n",
              "      <td>NaN</td>\n",
              "      <td>NaN</td>\n",
              "      <td>NaN</td>\n",
              "      <td>...</td>\n",
              "      <td>0.9800</td>\n",
              "      <td>1.1000</td>\n",
              "      <td>1.2000</td>\n",
              "      <td>1.180</td>\n",
              "      <td>1.230</td>\n",
              "      <td>1.240</td>\n",
              "      <td>1.250</td>\n",
              "      <td>1.33</td>\n",
              "      <td>1.250</td>\n",
              "      <td>1.290</td>\n",
              "    </tr>\n",
              "  </tbody>\n",
              "</table>\n",
              "<p>5 rows × 216 columns</p>\n",
              "</div>"
            ],
            "text/plain": [
              "           geo  1800  1801  1802  1803  1804  1805  1806  1807  1808  ...  \\\n",
              "0  Afghanistan   NaN   NaN   NaN   NaN   NaN   NaN   NaN   NaN   NaN  ...   \n",
              "1      Albania   NaN   NaN   NaN   NaN   NaN   NaN   NaN   NaN   NaN  ...   \n",
              "2      Algeria   NaN   NaN   NaN   NaN   NaN   NaN   NaN   NaN   NaN  ...   \n",
              "3      Andorra   NaN   NaN   NaN   NaN   NaN   NaN   NaN   NaN   NaN  ...   \n",
              "4       Angola   NaN   NaN   NaN   NaN   NaN   NaN   NaN   NaN   NaN  ...   \n",
              "\n",
              "     2005    2006    2007   2008   2009   2010   2011  2012   2013   2014  \n",
              "0  0.0529  0.0637  0.0854  0.154  0.242  0.294  0.412  0.35  0.316  0.299  \n",
              "1  1.3800  1.2800  1.3000  1.460  1.480  1.560  1.790  1.68  1.730  1.960  \n",
              "2  3.2200  2.9900  3.1900  3.160  3.420  3.300  3.290  3.46  3.510  3.720  \n",
              "3  7.3000  6.7500  6.5200  6.430  6.120  6.120  5.870  5.92  5.900  5.830  \n",
              "4  0.9800  1.1000  1.2000  1.180  1.230  1.240  1.250  1.33  1.250  1.290  \n",
              "\n",
              "[5 rows x 216 columns]"
            ]
          },
          "metadata": {
            "tags": []
          },
          "execution_count": 5
        }
      ]
    },
    {
      "cell_type": "code",
      "metadata": {
        "id": "XR6MmUFnYZd2",
        "outputId": "dd8d80d0-0ef2-4432-c58f-ced8fdd9bb74"
      },
      "source": [
        "coal.head()"
      ],
      "execution_count": null,
      "outputs": [
        {
          "output_type": "execute_result",
          "data": {
            "text/html": [
              "<div>\n",
              "<style scoped>\n",
              "    .dataframe tbody tr th:only-of-type {\n",
              "        vertical-align: middle;\n",
              "    }\n",
              "\n",
              "    .dataframe tbody tr th {\n",
              "        vertical-align: top;\n",
              "    }\n",
              "\n",
              "    .dataframe thead th {\n",
              "        text-align: right;\n",
              "    }\n",
              "</style>\n",
              "<table border=\"1\" class=\"dataframe\">\n",
              "  <thead>\n",
              "    <tr style=\"text-align: right;\">\n",
              "      <th></th>\n",
              "      <th>geo</th>\n",
              "      <th>1965</th>\n",
              "      <th>1966</th>\n",
              "      <th>1967</th>\n",
              "      <th>1968</th>\n",
              "      <th>1969</th>\n",
              "      <th>1970</th>\n",
              "      <th>1971</th>\n",
              "      <th>1972</th>\n",
              "      <th>1973</th>\n",
              "      <th>...</th>\n",
              "      <th>2007</th>\n",
              "      <th>2008</th>\n",
              "      <th>2009</th>\n",
              "      <th>2010</th>\n",
              "      <th>2011</th>\n",
              "      <th>2012</th>\n",
              "      <th>2013</th>\n",
              "      <th>2014</th>\n",
              "      <th>2015</th>\n",
              "      <th>2016</th>\n",
              "    </tr>\n",
              "  </thead>\n",
              "  <tbody>\n",
              "    <tr>\n",
              "      <td>0</td>\n",
              "      <td>Algeria</td>\n",
              "      <td>0.00554</td>\n",
              "      <td>0.00524</td>\n",
              "      <td>0.00389</td>\n",
              "      <td>0.0040</td>\n",
              "      <td>0.00495</td>\n",
              "      <td>0.0057</td>\n",
              "      <td>0.00154</td>\n",
              "      <td>0.0013</td>\n",
              "      <td>0.00146</td>\n",
              "      <td>...</td>\n",
              "      <td>0.02210</td>\n",
              "      <td>0.02170</td>\n",
              "      <td>0.01370</td>\n",
              "      <td>0.00858</td>\n",
              "      <td>0.00747</td>\n",
              "      <td>0.00777</td>\n",
              "      <td>0.00412</td>\n",
              "      <td>0.00458</td>\n",
              "      <td>0.00361</td>\n",
              "      <td>0.00356</td>\n",
              "    </tr>\n",
              "    <tr>\n",
              "      <td>1</td>\n",
              "      <td>Argentina</td>\n",
              "      <td>0.03570</td>\n",
              "      <td>0.03690</td>\n",
              "      <td>0.03560</td>\n",
              "      <td>0.0282</td>\n",
              "      <td>0.03710</td>\n",
              "      <td>0.0409</td>\n",
              "      <td>0.03310</td>\n",
              "      <td>0.0291</td>\n",
              "      <td>0.03010</td>\n",
              "      <td>...</td>\n",
              "      <td>0.03050</td>\n",
              "      <td>0.03450</td>\n",
              "      <td>0.02340</td>\n",
              "      <td>0.03080</td>\n",
              "      <td>0.03720</td>\n",
              "      <td>0.03110</td>\n",
              "      <td>0.02950</td>\n",
              "      <td>0.03460</td>\n",
              "      <td>0.03130</td>\n",
              "      <td>0.02410</td>\n",
              "    </tr>\n",
              "    <tr>\n",
              "      <td>2</td>\n",
              "      <td>Australia</td>\n",
              "      <td>1.53000</td>\n",
              "      <td>1.55000</td>\n",
              "      <td>1.55000</td>\n",
              "      <td>1.5500</td>\n",
              "      <td>1.57000</td>\n",
              "      <td>1.5500</td>\n",
              "      <td>1.53000</td>\n",
              "      <td>1.5700</td>\n",
              "      <td>1.61000</td>\n",
              "      <td>...</td>\n",
              "      <td>2.51000</td>\n",
              "      <td>2.57000</td>\n",
              "      <td>2.44000</td>\n",
              "      <td>2.23000</td>\n",
              "      <td>2.14000</td>\n",
              "      <td>1.98000</td>\n",
              "      <td>1.86000</td>\n",
              "      <td>1.82000</td>\n",
              "      <td>1.85000</td>\n",
              "      <td>1.82000</td>\n",
              "    </tr>\n",
              "    <tr>\n",
              "      <td>3</td>\n",
              "      <td>Austria</td>\n",
              "      <td>0.69600</td>\n",
              "      <td>0.66000</td>\n",
              "      <td>0.62100</td>\n",
              "      <td>0.6100</td>\n",
              "      <td>0.59700</td>\n",
              "      <td>0.6390</td>\n",
              "      <td>0.58300</td>\n",
              "      <td>0.5270</td>\n",
              "      <td>0.52200</td>\n",
              "      <td>...</td>\n",
              "      <td>0.47000</td>\n",
              "      <td>0.45000</td>\n",
              "      <td>0.34400</td>\n",
              "      <td>0.40200</td>\n",
              "      <td>0.41000</td>\n",
              "      <td>0.37900</td>\n",
              "      <td>0.38200</td>\n",
              "      <td>0.34700</td>\n",
              "      <td>0.37300</td>\n",
              "      <td>0.36400</td>\n",
              "    </tr>\n",
              "    <tr>\n",
              "      <td>4</td>\n",
              "      <td>Azerbaijan</td>\n",
              "      <td>NaN</td>\n",
              "      <td>NaN</td>\n",
              "      <td>NaN</td>\n",
              "      <td>NaN</td>\n",
              "      <td>NaN</td>\n",
              "      <td>NaN</td>\n",
              "      <td>NaN</td>\n",
              "      <td>NaN</td>\n",
              "      <td>NaN</td>\n",
              "      <td>...</td>\n",
              "      <td>0.00014</td>\n",
              "      <td>0.00079</td>\n",
              "      <td>0.00046</td>\n",
              "      <td>0.00006</td>\n",
              "      <td>0.00038</td>\n",
              "      <td>0.00006</td>\n",
              "      <td>0.00031</td>\n",
              "      <td>0.00017</td>\n",
              "      <td>0.00004</td>\n",
              "      <td>0.00004</td>\n",
              "    </tr>\n",
              "  </tbody>\n",
              "</table>\n",
              "<p>5 rows × 53 columns</p>\n",
              "</div>"
            ],
            "text/plain": [
              "          geo     1965     1966     1967    1968     1969    1970     1971  \\\n",
              "0     Algeria  0.00554  0.00524  0.00389  0.0040  0.00495  0.0057  0.00154   \n",
              "1   Argentina  0.03570  0.03690  0.03560  0.0282  0.03710  0.0409  0.03310   \n",
              "2   Australia  1.53000  1.55000  1.55000  1.5500  1.57000  1.5500  1.53000   \n",
              "3     Austria  0.69600  0.66000  0.62100  0.6100  0.59700  0.6390  0.58300   \n",
              "4  Azerbaijan      NaN      NaN      NaN     NaN      NaN     NaN      NaN   \n",
              "\n",
              "     1972     1973  ...     2007     2008     2009     2010     2011     2012  \\\n",
              "0  0.0013  0.00146  ...  0.02210  0.02170  0.01370  0.00858  0.00747  0.00777   \n",
              "1  0.0291  0.03010  ...  0.03050  0.03450  0.02340  0.03080  0.03720  0.03110   \n",
              "2  1.5700  1.61000  ...  2.51000  2.57000  2.44000  2.23000  2.14000  1.98000   \n",
              "3  0.5270  0.52200  ...  0.47000  0.45000  0.34400  0.40200  0.41000  0.37900   \n",
              "4     NaN      NaN  ...  0.00014  0.00079  0.00046  0.00006  0.00038  0.00006   \n",
              "\n",
              "      2013     2014     2015     2016  \n",
              "0  0.00412  0.00458  0.00361  0.00356  \n",
              "1  0.02950  0.03460  0.03130  0.02410  \n",
              "2  1.86000  1.82000  1.85000  1.82000  \n",
              "3  0.38200  0.34700  0.37300  0.36400  \n",
              "4  0.00031  0.00017  0.00004  0.00004  \n",
              "\n",
              "[5 rows x 53 columns]"
            ]
          },
          "metadata": {
            "tags": []
          },
          "execution_count": 6
        }
      ]
    },
    {
      "cell_type": "code",
      "metadata": {
        "id": "R1VlUKAUYZd3",
        "outputId": "5f604165-5150-4753-a2ee-c5f1382c18da"
      },
      "source": [
        "ele_gen.head()"
      ],
      "execution_count": null,
      "outputs": [
        {
          "output_type": "execute_result",
          "data": {
            "text/html": [
              "<div>\n",
              "<style scoped>\n",
              "    .dataframe tbody tr th:only-of-type {\n",
              "        vertical-align: middle;\n",
              "    }\n",
              "\n",
              "    .dataframe tbody tr th {\n",
              "        vertical-align: top;\n",
              "    }\n",
              "\n",
              "    .dataframe thead th {\n",
              "        text-align: right;\n",
              "    }\n",
              "</style>\n",
              "<table border=\"1\" class=\"dataframe\">\n",
              "  <thead>\n",
              "    <tr style=\"text-align: right;\">\n",
              "      <th></th>\n",
              "      <th>geo</th>\n",
              "      <th>1985</th>\n",
              "      <th>1986</th>\n",
              "      <th>1987</th>\n",
              "      <th>1988</th>\n",
              "      <th>1989</th>\n",
              "      <th>1990</th>\n",
              "      <th>1991</th>\n",
              "      <th>1992</th>\n",
              "      <th>1993</th>\n",
              "      <th>...</th>\n",
              "      <th>2007</th>\n",
              "      <th>2008</th>\n",
              "      <th>2009</th>\n",
              "      <th>2010</th>\n",
              "      <th>2011</th>\n",
              "      <th>2012</th>\n",
              "      <th>2013</th>\n",
              "      <th>2014</th>\n",
              "      <th>2015</th>\n",
              "      <th>2016</th>\n",
              "    </tr>\n",
              "  </thead>\n",
              "  <tbody>\n",
              "    <tr>\n",
              "      <td>0</td>\n",
              "      <td>Algeria</td>\n",
              "      <td>544.0</td>\n",
              "      <td>559.0</td>\n",
              "      <td>532.0</td>\n",
              "      <td>568.0</td>\n",
              "      <td>607.0</td>\n",
              "      <td>621.0</td>\n",
              "      <td>653.0</td>\n",
              "      <td>673</td>\n",
              "      <td>699</td>\n",
              "      <td>...</td>\n",
              "      <td>1090</td>\n",
              "      <td>1150</td>\n",
              "      <td>1220</td>\n",
              "      <td>1270</td>\n",
              "      <td>1440</td>\n",
              "      <td>1530</td>\n",
              "      <td>1560</td>\n",
              "      <td>1640</td>\n",
              "      <td>1730</td>\n",
              "      <td>1730</td>\n",
              "    </tr>\n",
              "    <tr>\n",
              "      <td>1</td>\n",
              "      <td>Argentina</td>\n",
              "      <td>1490.0</td>\n",
              "      <td>1590.0</td>\n",
              "      <td>1660.0</td>\n",
              "      <td>1670.0</td>\n",
              "      <td>1580.0</td>\n",
              "      <td>1560.0</td>\n",
              "      <td>1620.0</td>\n",
              "      <td>1680</td>\n",
              "      <td>1810</td>\n",
              "      <td>...</td>\n",
              "      <td>2880</td>\n",
              "      <td>3190</td>\n",
              "      <td>3180</td>\n",
              "      <td>3210</td>\n",
              "      <td>3110</td>\n",
              "      <td>3230</td>\n",
              "      <td>3280</td>\n",
              "      <td>3290</td>\n",
              "      <td>3350</td>\n",
              "      <td>3350</td>\n",
              "    </tr>\n",
              "    <tr>\n",
              "      <td>2</td>\n",
              "      <td>Australia</td>\n",
              "      <td>7860.0</td>\n",
              "      <td>8100.0</td>\n",
              "      <td>8360.0</td>\n",
              "      <td>8670.0</td>\n",
              "      <td>9020.0</td>\n",
              "      <td>9130.0</td>\n",
              "      <td>9150.0</td>\n",
              "      <td>9230</td>\n",
              "      <td>9350</td>\n",
              "      <td>...</td>\n",
              "      <td>11600</td>\n",
              "      <td>11500</td>\n",
              "      <td>11500</td>\n",
              "      <td>11300</td>\n",
              "      <td>11400</td>\n",
              "      <td>11000</td>\n",
              "      <td>10800</td>\n",
              "      <td>10500</td>\n",
              "      <td>10600</td>\n",
              "      <td>10600</td>\n",
              "    </tr>\n",
              "    <tr>\n",
              "      <td>3</td>\n",
              "      <td>Austria</td>\n",
              "      <td>5850.0</td>\n",
              "      <td>5860.0</td>\n",
              "      <td>6610.0</td>\n",
              "      <td>6400.0</td>\n",
              "      <td>6530.0</td>\n",
              "      <td>6530.0</td>\n",
              "      <td>6620.0</td>\n",
              "      <td>6540</td>\n",
              "      <td>6670</td>\n",
              "      <td>...</td>\n",
              "      <td>7800</td>\n",
              "      <td>8030</td>\n",
              "      <td>8250</td>\n",
              "      <td>8450</td>\n",
              "      <td>7780</td>\n",
              "      <td>8500</td>\n",
              "      <td>7930</td>\n",
              "      <td>7540</td>\n",
              "      <td>7480</td>\n",
              "      <td>7760</td>\n",
              "    </tr>\n",
              "    <tr>\n",
              "      <td>4</td>\n",
              "      <td>Azerbaijan</td>\n",
              "      <td>3110.0</td>\n",
              "      <td>3180.0</td>\n",
              "      <td>3320.0</td>\n",
              "      <td>3360.0</td>\n",
              "      <td>3270.0</td>\n",
              "      <td>3200.0</td>\n",
              "      <td>3170.0</td>\n",
              "      <td>2630</td>\n",
              "      <td>2520</td>\n",
              "      <td>...</td>\n",
              "      <td>2500</td>\n",
              "      <td>2450</td>\n",
              "      <td>2110</td>\n",
              "      <td>2070</td>\n",
              "      <td>2220</td>\n",
              "      <td>2480</td>\n",
              "      <td>2490</td>\n",
              "      <td>2600</td>\n",
              "      <td>2570</td>\n",
              "      <td>2570</td>\n",
              "    </tr>\n",
              "  </tbody>\n",
              "</table>\n",
              "<p>5 rows × 33 columns</p>\n",
              "</div>"
            ],
            "text/plain": [
              "          geo    1985    1986    1987    1988    1989    1990    1991  1992  \\\n",
              "0     Algeria   544.0   559.0   532.0   568.0   607.0   621.0   653.0   673   \n",
              "1   Argentina  1490.0  1590.0  1660.0  1670.0  1580.0  1560.0  1620.0  1680   \n",
              "2   Australia  7860.0  8100.0  8360.0  8670.0  9020.0  9130.0  9150.0  9230   \n",
              "3     Austria  5850.0  5860.0  6610.0  6400.0  6530.0  6530.0  6620.0  6540   \n",
              "4  Azerbaijan  3110.0  3180.0  3320.0  3360.0  3270.0  3200.0  3170.0  2630   \n",
              "\n",
              "   1993  ...   2007   2008   2009   2010   2011   2012   2013   2014   2015  \\\n",
              "0   699  ...   1090   1150   1220   1270   1440   1530   1560   1640   1730   \n",
              "1  1810  ...   2880   3190   3180   3210   3110   3230   3280   3290   3350   \n",
              "2  9350  ...  11600  11500  11500  11300  11400  11000  10800  10500  10600   \n",
              "3  6670  ...   7800   8030   8250   8450   7780   8500   7930   7540   7480   \n",
              "4  2520  ...   2500   2450   2110   2070   2220   2480   2490   2600   2570   \n",
              "\n",
              "    2016  \n",
              "0   1730  \n",
              "1   3350  \n",
              "2  10600  \n",
              "3   7760  \n",
              "4   2570  \n",
              "\n",
              "[5 rows x 33 columns]"
            ]
          },
          "metadata": {
            "tags": []
          },
          "execution_count": 7
        }
      ]
    },
    {
      "cell_type": "markdown",
      "metadata": {
        "id": "Ie6HTz6kYZd3"
      },
      "source": [
        "### Seeing above files we are sure that all of our files would have been read properly so no need to head all of them"
      ]
    },
    {
      "cell_type": "markdown",
      "metadata": {
        "id": "BlOuZ7nMYZd3"
      },
      "source": [
        "### We see that all of our columns are years and country name and we need only year 2014 and counry name so we will drop other years"
      ]
    },
    {
      "cell_type": "code",
      "metadata": {
        "id": "AUC_UQP3YZd3"
      },
      "source": [
        "co22=co2[['geo','2014']]\n",
        "coal2=coal[['geo','2014']]\n",
        "ele_gen2=ele_gen[['geo','2014']]\n",
        "ele_use2=ele_use[['geo','2014']]\n",
        "forest2=forest[['geo','2014']]\n",
        "income2=income[['geo','2014']]\n",
        "industry2=industry[['geo','2014']]\n",
        "natural2=natural[['geo','2014']]\n",
        "oil_con2=oil_con[['geo','2014']]\n",
        "oil_pro2=oil_pro[['geo','2014']]\n",
        "year2=year[['geo','2014']]"
      ],
      "execution_count": null,
      "outputs": []
    },
    {
      "cell_type": "markdown",
      "metadata": {
        "id": "0_wB_PSEYZd3"
      },
      "source": [
        "## Reading above data we find that cars and hydro do not have column for 2014 so we will not be using these files"
      ]
    },
    {
      "cell_type": "code",
      "metadata": {
        "id": "OepQCc4cYZd3",
        "outputId": "77fd97ce-110d-4e35-f398-e5cd31979d67"
      },
      "source": [
        "# Now checking first 3 files for first 5 rows\n",
        "co22.head()\n"
      ],
      "execution_count": null,
      "outputs": [
        {
          "output_type": "execute_result",
          "data": {
            "text/html": [
              "<div>\n",
              "<style scoped>\n",
              "    .dataframe tbody tr th:only-of-type {\n",
              "        vertical-align: middle;\n",
              "    }\n",
              "\n",
              "    .dataframe tbody tr th {\n",
              "        vertical-align: top;\n",
              "    }\n",
              "\n",
              "    .dataframe thead th {\n",
              "        text-align: right;\n",
              "    }\n",
              "</style>\n",
              "<table border=\"1\" class=\"dataframe\">\n",
              "  <thead>\n",
              "    <tr style=\"text-align: right;\">\n",
              "      <th></th>\n",
              "      <th>geo</th>\n",
              "      <th>2014</th>\n",
              "    </tr>\n",
              "  </thead>\n",
              "  <tbody>\n",
              "    <tr>\n",
              "      <td>0</td>\n",
              "      <td>Afghanistan</td>\n",
              "      <td>0.299</td>\n",
              "    </tr>\n",
              "    <tr>\n",
              "      <td>1</td>\n",
              "      <td>Albania</td>\n",
              "      <td>1.960</td>\n",
              "    </tr>\n",
              "    <tr>\n",
              "      <td>2</td>\n",
              "      <td>Algeria</td>\n",
              "      <td>3.720</td>\n",
              "    </tr>\n",
              "    <tr>\n",
              "      <td>3</td>\n",
              "      <td>Andorra</td>\n",
              "      <td>5.830</td>\n",
              "    </tr>\n",
              "    <tr>\n",
              "      <td>4</td>\n",
              "      <td>Angola</td>\n",
              "      <td>1.290</td>\n",
              "    </tr>\n",
              "  </tbody>\n",
              "</table>\n",
              "</div>"
            ],
            "text/plain": [
              "           geo   2014\n",
              "0  Afghanistan  0.299\n",
              "1      Albania  1.960\n",
              "2      Algeria  3.720\n",
              "3      Andorra  5.830\n",
              "4       Angola  1.290"
            ]
          },
          "metadata": {
            "tags": []
          },
          "execution_count": 9
        }
      ]
    },
    {
      "cell_type": "code",
      "metadata": {
        "id": "jy40RXMDYZd3",
        "outputId": "1157a83b-14bd-4864-d799-55ad864b8f84"
      },
      "source": [
        "coal2.head()\n"
      ],
      "execution_count": null,
      "outputs": [
        {
          "output_type": "execute_result",
          "data": {
            "text/html": [
              "<div>\n",
              "<style scoped>\n",
              "    .dataframe tbody tr th:only-of-type {\n",
              "        vertical-align: middle;\n",
              "    }\n",
              "\n",
              "    .dataframe tbody tr th {\n",
              "        vertical-align: top;\n",
              "    }\n",
              "\n",
              "    .dataframe thead th {\n",
              "        text-align: right;\n",
              "    }\n",
              "</style>\n",
              "<table border=\"1\" class=\"dataframe\">\n",
              "  <thead>\n",
              "    <tr style=\"text-align: right;\">\n",
              "      <th></th>\n",
              "      <th>geo</th>\n",
              "      <th>2014</th>\n",
              "    </tr>\n",
              "  </thead>\n",
              "  <tbody>\n",
              "    <tr>\n",
              "      <td>0</td>\n",
              "      <td>Algeria</td>\n",
              "      <td>0.00458</td>\n",
              "    </tr>\n",
              "    <tr>\n",
              "      <td>1</td>\n",
              "      <td>Argentina</td>\n",
              "      <td>0.03460</td>\n",
              "    </tr>\n",
              "    <tr>\n",
              "      <td>2</td>\n",
              "      <td>Australia</td>\n",
              "      <td>1.82000</td>\n",
              "    </tr>\n",
              "    <tr>\n",
              "      <td>3</td>\n",
              "      <td>Austria</td>\n",
              "      <td>0.34700</td>\n",
              "    </tr>\n",
              "    <tr>\n",
              "      <td>4</td>\n",
              "      <td>Azerbaijan</td>\n",
              "      <td>0.00017</td>\n",
              "    </tr>\n",
              "  </tbody>\n",
              "</table>\n",
              "</div>"
            ],
            "text/plain": [
              "          geo     2014\n",
              "0     Algeria  0.00458\n",
              "1   Argentina  0.03460\n",
              "2   Australia  1.82000\n",
              "3     Austria  0.34700\n",
              "4  Azerbaijan  0.00017"
            ]
          },
          "metadata": {
            "tags": []
          },
          "execution_count": 10
        }
      ]
    },
    {
      "cell_type": "code",
      "metadata": {
        "id": "7lieb8LSYZd3",
        "outputId": "31a727c6-a5f7-4cbb-db02-3d7b5b0d957a"
      },
      "source": [
        "ele_gen2.head()"
      ],
      "execution_count": null,
      "outputs": [
        {
          "output_type": "execute_result",
          "data": {
            "text/html": [
              "<div>\n",
              "<style scoped>\n",
              "    .dataframe tbody tr th:only-of-type {\n",
              "        vertical-align: middle;\n",
              "    }\n",
              "\n",
              "    .dataframe tbody tr th {\n",
              "        vertical-align: top;\n",
              "    }\n",
              "\n",
              "    .dataframe thead th {\n",
              "        text-align: right;\n",
              "    }\n",
              "</style>\n",
              "<table border=\"1\" class=\"dataframe\">\n",
              "  <thead>\n",
              "    <tr style=\"text-align: right;\">\n",
              "      <th></th>\n",
              "      <th>geo</th>\n",
              "      <th>2014</th>\n",
              "    </tr>\n",
              "  </thead>\n",
              "  <tbody>\n",
              "    <tr>\n",
              "      <td>0</td>\n",
              "      <td>Algeria</td>\n",
              "      <td>1640</td>\n",
              "    </tr>\n",
              "    <tr>\n",
              "      <td>1</td>\n",
              "      <td>Argentina</td>\n",
              "      <td>3290</td>\n",
              "    </tr>\n",
              "    <tr>\n",
              "      <td>2</td>\n",
              "      <td>Australia</td>\n",
              "      <td>10500</td>\n",
              "    </tr>\n",
              "    <tr>\n",
              "      <td>3</td>\n",
              "      <td>Austria</td>\n",
              "      <td>7540</td>\n",
              "    </tr>\n",
              "    <tr>\n",
              "      <td>4</td>\n",
              "      <td>Azerbaijan</td>\n",
              "      <td>2600</td>\n",
              "    </tr>\n",
              "  </tbody>\n",
              "</table>\n",
              "</div>"
            ],
            "text/plain": [
              "          geo   2014\n",
              "0     Algeria   1640\n",
              "1   Argentina   3290\n",
              "2   Australia  10500\n",
              "3     Austria   7540\n",
              "4  Azerbaijan   2600"
            ]
          },
          "metadata": {
            "tags": []
          },
          "execution_count": 11
        }
      ]
    },
    {
      "cell_type": "code",
      "metadata": {
        "id": "iKbHOZuYYZd4",
        "outputId": "63c40e06-b39c-4c1f-cb3a-68f8c2f15233"
      },
      "source": [
        "# Checking for missing values\n",
        "year2.isnull().sum()"
      ],
      "execution_count": null,
      "outputs": [
        {
          "output_type": "execute_result",
          "data": {
            "text/plain": [
              "geo     0\n",
              "2014    0\n",
              "dtype: int64"
            ]
          },
          "metadata": {
            "tags": []
          },
          "execution_count": 12
        }
      ]
    },
    {
      "cell_type": "markdown",
      "metadata": {
        "id": "fF202YPyYZd4"
      },
      "source": [
        "### Hence we sucessfuly dropped waste columns."
      ]
    },
    {
      "cell_type": "markdown",
      "metadata": {
        "id": "FjROHrPdYZd4"
      },
      "source": [
        "# Our next step will be to merge these files using geo as our common column"
      ]
    },
    {
      "cell_type": "code",
      "metadata": {
        "id": "-AJBS9JaYZd4",
        "outputId": "11187729-55f1-4da6-a798-b6a1a7f8d60a"
      },
      "source": [
        "df1 = pd.merge(co22, coal2, how='outer', on='geo')\n",
        "df2 = pd.merge(df1,ele_gen2, how='outer', on='geo')\n",
        "df3 = pd.merge(df2, ele_use2, how='outer', on='geo')\n",
        "df4 = pd.merge(df3, forest2,  how='outer', on='geo')\n",
        "df5 = pd.merge(df4, income2,  how='outer', on='geo')\n",
        "df6 = pd.merge(df5, industry2,  how='outer', on='geo')\n",
        "df7 = pd.merge(df6, natural2, how='outer', on='geo')\n",
        "df8 = pd.merge(df7, oil_con2, how='outer', on='geo')\n",
        "df9 = pd.merge(df8, oil_pro2, how='outer', on='geo')\n",
        "df = pd.merge(df9, year2, how='outer', on='geo')\n",
        "df.head()"
      ],
      "execution_count": null,
      "outputs": [
        {
          "output_type": "execute_result",
          "data": {
            "text/html": [
              "<div>\n",
              "<style scoped>\n",
              "    .dataframe tbody tr th:only-of-type {\n",
              "        vertical-align: middle;\n",
              "    }\n",
              "\n",
              "    .dataframe tbody tr th {\n",
              "        vertical-align: top;\n",
              "    }\n",
              "\n",
              "    .dataframe thead th {\n",
              "        text-align: right;\n",
              "    }\n",
              "</style>\n",
              "<table border=\"1\" class=\"dataframe\">\n",
              "  <thead>\n",
              "    <tr style=\"text-align: right;\">\n",
              "      <th></th>\n",
              "      <th>geo</th>\n",
              "      <th>2014_x</th>\n",
              "      <th>2014_y</th>\n",
              "      <th>2014_x</th>\n",
              "      <th>2014_y</th>\n",
              "      <th>2014_x</th>\n",
              "      <th>2014_y</th>\n",
              "      <th>2014_x</th>\n",
              "      <th>2014_y</th>\n",
              "      <th>2014_x</th>\n",
              "      <th>2014_y</th>\n",
              "      <th>2014</th>\n",
              "    </tr>\n",
              "  </thead>\n",
              "  <tbody>\n",
              "    <tr>\n",
              "      <td>0</td>\n",
              "      <td>Afghanistan</td>\n",
              "      <td>0.299</td>\n",
              "      <td>NaN</td>\n",
              "      <td>NaN</td>\n",
              "      <td>NaN</td>\n",
              "      <td>2.07</td>\n",
              "      <td>1780.0</td>\n",
              "      <td>21.10</td>\n",
              "      <td>NaN</td>\n",
              "      <td>NaN</td>\n",
              "      <td>NaN</td>\n",
              "      <td>9810.0</td>\n",
              "    </tr>\n",
              "    <tr>\n",
              "      <td>1</td>\n",
              "      <td>Albania</td>\n",
              "      <td>1.960</td>\n",
              "      <td>NaN</td>\n",
              "      <td>NaN</td>\n",
              "      <td>2310.0</td>\n",
              "      <td>28.20</td>\n",
              "      <td>10700.0</td>\n",
              "      <td>21.50</td>\n",
              "      <td>NaN</td>\n",
              "      <td>NaN</td>\n",
              "      <td>NaN</td>\n",
              "      <td>5720.0</td>\n",
              "    </tr>\n",
              "    <tr>\n",
              "      <td>2</td>\n",
              "      <td>Algeria</td>\n",
              "      <td>3.720</td>\n",
              "      <td>0.00458</td>\n",
              "      <td>1640.0</td>\n",
              "      <td>1360.0</td>\n",
              "      <td>0.82</td>\n",
              "      <td>13500.0</td>\n",
              "      <td>42.30</td>\n",
              "      <td>1.92</td>\n",
              "      <td>0.452</td>\n",
              "      <td>1.76</td>\n",
              "      <td>145000.0</td>\n",
              "    </tr>\n",
              "    <tr>\n",
              "      <td>3</td>\n",
              "      <td>Andorra</td>\n",
              "      <td>5.830</td>\n",
              "      <td>NaN</td>\n",
              "      <td>NaN</td>\n",
              "      <td>NaN</td>\n",
              "      <td>34.00</td>\n",
              "      <td>44900.0</td>\n",
              "      <td>9.91</td>\n",
              "      <td>NaN</td>\n",
              "      <td>NaN</td>\n",
              "      <td>NaN</td>\n",
              "      <td>462.0</td>\n",
              "    </tr>\n",
              "    <tr>\n",
              "      <td>4</td>\n",
              "      <td>Angola</td>\n",
              "      <td>1.290</td>\n",
              "      <td>NaN</td>\n",
              "      <td>NaN</td>\n",
              "      <td>312.0</td>\n",
              "      <td>46.50</td>\n",
              "      <td>6260.0</td>\n",
              "      <td>NaN</td>\n",
              "      <td>NaN</td>\n",
              "      <td>NaN</td>\n",
              "      <td>3.08</td>\n",
              "      <td>34800.0</td>\n",
              "    </tr>\n",
              "  </tbody>\n",
              "</table>\n",
              "</div>"
            ],
            "text/plain": [
              "           geo  2014_x   2014_y  2014_x  2014_y  2014_x   2014_y  2014_x  \\\n",
              "0  Afghanistan   0.299      NaN     NaN     NaN    2.07   1780.0   21.10   \n",
              "1      Albania   1.960      NaN     NaN  2310.0   28.20  10700.0   21.50   \n",
              "2      Algeria   3.720  0.00458  1640.0  1360.0    0.82  13500.0   42.30   \n",
              "3      Andorra   5.830      NaN     NaN     NaN   34.00  44900.0    9.91   \n",
              "4       Angola   1.290      NaN     NaN   312.0   46.50   6260.0     NaN   \n",
              "\n",
              "   2014_y  2014_x  2014_y      2014  \n",
              "0     NaN     NaN     NaN    9810.0  \n",
              "1     NaN     NaN     NaN    5720.0  \n",
              "2    1.92   0.452    1.76  145000.0  \n",
              "3     NaN     NaN     NaN     462.0  \n",
              "4     NaN     NaN    3.08   34800.0  "
            ]
          },
          "metadata": {
            "tags": []
          },
          "execution_count": 13
        }
      ]
    },
    {
      "cell_type": "code",
      "metadata": {
        "id": "q-xkskLsYZd4",
        "outputId": "88da21ca-6f24-438d-9799-abb5c1ecb1b5"
      },
      "source": [
        "df.columns"
      ],
      "execution_count": null,
      "outputs": [
        {
          "output_type": "execute_result",
          "data": {
            "text/plain": [
              "Index(['geo', '2014_x', '2014_y', '2014_x', '2014_y', '2014_x', '2014_y',\n",
              "       '2014_x', '2014_y', '2014_x', '2014_y', '2014'],\n",
              "      dtype='object')"
            ]
          },
          "metadata": {
            "tags": []
          },
          "execution_count": 14
        }
      ]
    },
    {
      "cell_type": "code",
      "metadata": {
        "id": "31UshV4kYZd4",
        "outputId": "ffa7192d-a2f5-43b5-a94f-f5c2bfdc934c"
      },
      "source": [
        "df.describe"
      ],
      "execution_count": null,
      "outputs": [
        {
          "output_type": "execute_result",
          "data": {
            "text/plain": [
              "<bound method NDFrame.describe of              geo  2014_x   2014_y  2014_x  2014_y  2014_x   2014_y  2014_x  \\\n",
              "0    Afghanistan   0.299      NaN     NaN     NaN    2.07   1780.0   21.10   \n",
              "1        Albania   1.960      NaN     NaN  2310.0   28.20  10700.0   21.50   \n",
              "2        Algeria   3.720  0.00458  1640.0  1360.0    0.82  13500.0   42.30   \n",
              "3        Andorra   5.830      NaN     NaN     NaN   34.00  44900.0    9.91   \n",
              "4         Angola   1.290      NaN     NaN   312.0   46.50   6260.0     NaN   \n",
              "..           ...     ...      ...     ...     ...     ...      ...     ...   \n",
              "189        Yemen   0.865      NaN     NaN   216.0    1.04   3770.0   44.00   \n",
              "190       Zambia   0.288      NaN     NaN   707.0   65.70   3630.0   32.90   \n",
              "191     Zimbabwe   0.780      NaN     NaN   537.0   37.20   1910.0   22.50   \n",
              "192   San Marino     NaN      NaN     NaN     NaN    0.00  39100.0     NaN   \n",
              "193       Monaco     NaN      NaN     NaN     NaN     NaN  58300.0     NaN   \n",
              "\n",
              "     2014_y  2014_x  2014_y      2014  \n",
              "0       NaN     NaN     NaN    9810.0  \n",
              "1       NaN     NaN     NaN    5720.0  \n",
              "2      1.92   0.452   1.760  145000.0  \n",
              "3       NaN     NaN     NaN     462.0  \n",
              "4       NaN     NaN   3.080   34800.0  \n",
              "..      ...     ...     ...       ...  \n",
              "189    0.32     NaN   0.256   22700.0  \n",
              "190     NaN     NaN     NaN    4500.0  \n",
              "191     NaN     NaN     NaN   12000.0  \n",
              "192     NaN     NaN     NaN       NaN  \n",
              "193     NaN     NaN     NaN       NaN  \n",
              "\n",
              "[194 rows x 12 columns]>"
            ]
          },
          "metadata": {
            "tags": []
          },
          "execution_count": 15
        }
      ]
    },
    {
      "cell_type": "code",
      "metadata": {
        "id": "MIbIB2RnYZd4",
        "outputId": "eaa43e27-2c03-4425-807a-5af74855f4be"
      },
      "source": [
        "# Now renaming our columns\n",
        "df.columns=[ \"geo\",\"co2\",\"coal\",\"ele_gen\",\"ele_use\",\"forest\",\"income\",\"industry\",\"natural\",\"oil_con\",\"oil_pro\",\"year\"]\n",
        "df.head()"
      ],
      "execution_count": null,
      "outputs": [
        {
          "output_type": "execute_result",
          "data": {
            "text/html": [
              "<div>\n",
              "<style scoped>\n",
              "    .dataframe tbody tr th:only-of-type {\n",
              "        vertical-align: middle;\n",
              "    }\n",
              "\n",
              "    .dataframe tbody tr th {\n",
              "        vertical-align: top;\n",
              "    }\n",
              "\n",
              "    .dataframe thead th {\n",
              "        text-align: right;\n",
              "    }\n",
              "</style>\n",
              "<table border=\"1\" class=\"dataframe\">\n",
              "  <thead>\n",
              "    <tr style=\"text-align: right;\">\n",
              "      <th></th>\n",
              "      <th>geo</th>\n",
              "      <th>co2</th>\n",
              "      <th>coal</th>\n",
              "      <th>ele_gen</th>\n",
              "      <th>ele_use</th>\n",
              "      <th>forest</th>\n",
              "      <th>income</th>\n",
              "      <th>industry</th>\n",
              "      <th>natural</th>\n",
              "      <th>oil_con</th>\n",
              "      <th>oil_pro</th>\n",
              "      <th>year</th>\n",
              "    </tr>\n",
              "  </thead>\n",
              "  <tbody>\n",
              "    <tr>\n",
              "      <td>0</td>\n",
              "      <td>Afghanistan</td>\n",
              "      <td>0.299</td>\n",
              "      <td>NaN</td>\n",
              "      <td>NaN</td>\n",
              "      <td>NaN</td>\n",
              "      <td>2.07</td>\n",
              "      <td>1780.0</td>\n",
              "      <td>21.10</td>\n",
              "      <td>NaN</td>\n",
              "      <td>NaN</td>\n",
              "      <td>NaN</td>\n",
              "      <td>9810.0</td>\n",
              "    </tr>\n",
              "    <tr>\n",
              "      <td>1</td>\n",
              "      <td>Albania</td>\n",
              "      <td>1.960</td>\n",
              "      <td>NaN</td>\n",
              "      <td>NaN</td>\n",
              "      <td>2310.0</td>\n",
              "      <td>28.20</td>\n",
              "      <td>10700.0</td>\n",
              "      <td>21.50</td>\n",
              "      <td>NaN</td>\n",
              "      <td>NaN</td>\n",
              "      <td>NaN</td>\n",
              "      <td>5720.0</td>\n",
              "    </tr>\n",
              "    <tr>\n",
              "      <td>2</td>\n",
              "      <td>Algeria</td>\n",
              "      <td>3.720</td>\n",
              "      <td>0.00458</td>\n",
              "      <td>1640.0</td>\n",
              "      <td>1360.0</td>\n",
              "      <td>0.82</td>\n",
              "      <td>13500.0</td>\n",
              "      <td>42.30</td>\n",
              "      <td>1.92</td>\n",
              "      <td>0.452</td>\n",
              "      <td>1.76</td>\n",
              "      <td>145000.0</td>\n",
              "    </tr>\n",
              "    <tr>\n",
              "      <td>3</td>\n",
              "      <td>Andorra</td>\n",
              "      <td>5.830</td>\n",
              "      <td>NaN</td>\n",
              "      <td>NaN</td>\n",
              "      <td>NaN</td>\n",
              "      <td>34.00</td>\n",
              "      <td>44900.0</td>\n",
              "      <td>9.91</td>\n",
              "      <td>NaN</td>\n",
              "      <td>NaN</td>\n",
              "      <td>NaN</td>\n",
              "      <td>462.0</td>\n",
              "    </tr>\n",
              "    <tr>\n",
              "      <td>4</td>\n",
              "      <td>Angola</td>\n",
              "      <td>1.290</td>\n",
              "      <td>NaN</td>\n",
              "      <td>NaN</td>\n",
              "      <td>312.0</td>\n",
              "      <td>46.50</td>\n",
              "      <td>6260.0</td>\n",
              "      <td>NaN</td>\n",
              "      <td>NaN</td>\n",
              "      <td>NaN</td>\n",
              "      <td>3.08</td>\n",
              "      <td>34800.0</td>\n",
              "    </tr>\n",
              "  </tbody>\n",
              "</table>\n",
              "</div>"
            ],
            "text/plain": [
              "           geo    co2     coal  ele_gen  ele_use  forest   income  industry  \\\n",
              "0  Afghanistan  0.299      NaN      NaN      NaN    2.07   1780.0     21.10   \n",
              "1      Albania  1.960      NaN      NaN   2310.0   28.20  10700.0     21.50   \n",
              "2      Algeria  3.720  0.00458   1640.0   1360.0    0.82  13500.0     42.30   \n",
              "3      Andorra  5.830      NaN      NaN      NaN   34.00  44900.0      9.91   \n",
              "4       Angola  1.290      NaN      NaN    312.0   46.50   6260.0       NaN   \n",
              "\n",
              "   natural  oil_con  oil_pro      year  \n",
              "0      NaN      NaN      NaN    9810.0  \n",
              "1      NaN      NaN      NaN    5720.0  \n",
              "2     1.92    0.452     1.76  145000.0  \n",
              "3      NaN      NaN      NaN     462.0  \n",
              "4      NaN      NaN     3.08   34800.0  "
            ]
          },
          "metadata": {
            "tags": []
          },
          "execution_count": 16
        }
      ]
    },
    {
      "cell_type": "code",
      "metadata": {
        "id": "Up0f8_hOYZd4",
        "outputId": "aab4f91f-ae45-4db9-ff44-1bdc3bda0438"
      },
      "source": [
        "df.shape"
      ],
      "execution_count": null,
      "outputs": [
        {
          "output_type": "execute_result",
          "data": {
            "text/plain": [
              "(194, 12)"
            ]
          },
          "metadata": {
            "tags": []
          },
          "execution_count": 17
        }
      ]
    },
    {
      "cell_type": "markdown",
      "metadata": {
        "id": "Rwi6CbYdYZd4"
      },
      "source": [
        "# Step 2: Data Cleaning and Manipulation"
      ]
    },
    {
      "cell_type": "code",
      "metadata": {
        "id": "RSiFPk8PYZd4",
        "outputId": "b1aed0dc-cffc-41ee-f675-7f5cf797f710"
      },
      "source": [
        "# Checking for missing values\n",
        "df.isnull().sum()"
      ],
      "execution_count": null,
      "outputs": [
        {
          "output_type": "execute_result",
          "data": {
            "text/plain": [
              "geo           0\n",
              "co2           2\n",
              "coal        129\n",
              "ele_gen     129\n",
              "ele_use      57\n",
              "forest        3\n",
              "income        1\n",
              "industry     11\n",
              "natural     145\n",
              "oil_con     129\n",
              "oil_pro     145\n",
              "year          2\n",
              "dtype: int64"
            ]
          },
          "metadata": {
            "tags": []
          },
          "execution_count": 18
        }
      ]
    },
    {
      "cell_type": "code",
      "metadata": {
        "id": "V64wHKqzYZd4",
        "outputId": "19f8ddef-2249-4539-f01f-6ad3bfea3740"
      },
      "source": [
        "#Checking the percentage of missing values\n",
        "round(100*(df.isnull().sum()/len(df.index)), 2)"
      ],
      "execution_count": null,
      "outputs": [
        {
          "output_type": "execute_result",
          "data": {
            "text/plain": [
              "geo          0.00\n",
              "co2          1.03\n",
              "coal        66.49\n",
              "ele_gen     66.49\n",
              "ele_use     29.38\n",
              "forest       1.55\n",
              "income       0.52\n",
              "industry     5.67\n",
              "natural     74.74\n",
              "oil_con     66.49\n",
              "oil_pro     74.74\n",
              "year         1.03\n",
              "dtype: float64"
            ]
          },
          "metadata": {
            "tags": []
          },
          "execution_count": 19
        }
      ]
    },
    {
      "cell_type": "markdown",
      "metadata": {
        "id": "SK3mHMT_YZd5"
      },
      "source": [
        "### As we can see:\n",
        "coal        66.49\n",
        "\n",
        "ele_gen     66.49\n",
        "\n",
        "natural     74.74\n",
        "\n",
        "oil_con     66.49\n",
        "\n",
        "oil_pro     74.74\n",
        "\n",
        "### These have more than 50% of missing values. So there is no need to consider them.\n",
        "### Whereas,\n",
        "co2          1.03\n",
        "\n",
        "forest       1.55\n",
        "\n",
        "income       0.52\n",
        "\n",
        "industry     5.67\n",
        "\n",
        "year         1.03\n",
        "\n",
        "ele_use     29.38\n",
        "\n",
        "### So, we will be filling it with mean."
      ]
    },
    {
      "cell_type": "code",
      "metadata": {
        "id": "FVHvSvt9YZd5"
      },
      "source": [
        "# Dropping useless columns\n",
        "df = df.drop(['coal','ele_gen','natural','oil_con','oil_pro'], axis=1)\n"
      ],
      "execution_count": null,
      "outputs": []
    },
    {
      "cell_type": "code",
      "metadata": {
        "id": "ZoDhPfBZYZd5",
        "outputId": "8a911340-65d3-429c-9f3a-b757a70be2b7"
      },
      "source": [
        "df['co2'].mean()"
      ],
      "execution_count": null,
      "outputs": [
        {
          "output_type": "execute_result",
          "data": {
            "text/plain": [
              "4.44008489583333"
            ]
          },
          "metadata": {
            "tags": []
          },
          "execution_count": 21
        }
      ]
    },
    {
      "cell_type": "code",
      "metadata": {
        "id": "sBVJr2uMYZd5"
      },
      "source": [
        "df['co2'].fillna(value = (df['co2'].mean()), inplace=True)"
      ],
      "execution_count": null,
      "outputs": []
    },
    {
      "cell_type": "code",
      "metadata": {
        "id": "62UBNnE4YZd5",
        "outputId": "0613cb22-36a7-46a5-86bf-10a2869e1c9b"
      },
      "source": [
        "df['forest'].mean()"
      ],
      "execution_count": null,
      "outputs": [
        {
          "output_type": "execute_result",
          "data": {
            "text/plain": [
              "31.907068062827214"
            ]
          },
          "metadata": {
            "tags": []
          },
          "execution_count": 23
        }
      ]
    },
    {
      "cell_type": "code",
      "metadata": {
        "id": "q_tMB7WpYZd5"
      },
      "source": [
        "df['forest'].fillna(value = (df['forest'].mean()), inplace=True)"
      ],
      "execution_count": null,
      "outputs": []
    },
    {
      "cell_type": "code",
      "metadata": {
        "id": "iMqXvb6iYZd5",
        "outputId": "160feef9-9329-440c-e66e-84b535e78e10"
      },
      "source": [
        "df['income'].mean()"
      ],
      "execution_count": null,
      "outputs": [
        {
          "output_type": "execute_result",
          "data": {
            "text/plain": [
              "17210.39896373057"
            ]
          },
          "metadata": {
            "tags": []
          },
          "execution_count": 25
        }
      ]
    },
    {
      "cell_type": "code",
      "metadata": {
        "id": "doWJ3FUiYZd5"
      },
      "source": [
        "df['income'].fillna(value = (df['income'].mean()), inplace=True)"
      ],
      "execution_count": null,
      "outputs": []
    },
    {
      "cell_type": "code",
      "metadata": {
        "id": "9-l3C4r_YZd5",
        "outputId": "b0cec418-966c-413d-ba88-4215c498c6d2"
      },
      "source": [
        "df['industry'].mean()"
      ],
      "execution_count": null,
      "outputs": [
        {
          "output_type": "execute_result",
          "data": {
            "text/plain": [
              "26.761092896174873"
            ]
          },
          "metadata": {
            "tags": []
          },
          "execution_count": 27
        }
      ]
    },
    {
      "cell_type": "code",
      "metadata": {
        "id": "YzmfIRQRYZd5"
      },
      "source": [
        "df['industry'].fillna(value = (df['industry'].mean()), inplace=True)"
      ],
      "execution_count": null,
      "outputs": []
    },
    {
      "cell_type": "code",
      "metadata": {
        "id": "sLCTKXtSYZd5",
        "outputId": "6a117f4e-cff7-4845-8ecb-070fdfc66357"
      },
      "source": [
        "df['year'].mean()"
      ],
      "execution_count": null,
      "outputs": [
        {
          "output_type": "execute_result",
          "data": {
            "text/plain": [
              "175992.54166666666"
            ]
          },
          "metadata": {
            "tags": []
          },
          "execution_count": 29
        }
      ]
    },
    {
      "cell_type": "code",
      "metadata": {
        "id": "JZEmw-EnYZd5"
      },
      "source": [
        "df['year'].fillna(value = (df['year'].mean()), inplace=True)"
      ],
      "execution_count": null,
      "outputs": []
    },
    {
      "cell_type": "code",
      "metadata": {
        "id": "kVUE1r0gYZd5",
        "outputId": "49a87a11-47ae-468a-9330-0fa7db1845d5"
      },
      "source": [
        "df['ele_use'].mean()"
      ],
      "execution_count": null,
      "outputs": [
        {
          "output_type": "execute_result",
          "data": {
            "text/plain": [
              "4253.62189781022"
            ]
          },
          "metadata": {
            "tags": []
          },
          "execution_count": 31
        }
      ]
    },
    {
      "cell_type": "code",
      "metadata": {
        "id": "gHWlyTX0YZd5"
      },
      "source": [
        "df['ele_use'].fillna(value = (df['ele_use'].mean()), inplace=True)"
      ],
      "execution_count": null,
      "outputs": []
    },
    {
      "cell_type": "code",
      "metadata": {
        "id": "m2pjmjOFYZd5"
      },
      "source": [
        "df=df.dropna()"
      ],
      "execution_count": null,
      "outputs": []
    },
    {
      "cell_type": "code",
      "metadata": {
        "scrolled": true,
        "id": "PxHBJGgxYZd5",
        "outputId": "26d9aca6-a743-4dd2-bfb4-4d738891a20c"
      },
      "source": [
        "df.isnull().sum()"
      ],
      "execution_count": null,
      "outputs": [
        {
          "output_type": "execute_result",
          "data": {
            "text/plain": [
              "geo         0\n",
              "co2         0\n",
              "ele_use     0\n",
              "forest      0\n",
              "income      0\n",
              "industry    0\n",
              "year        0\n",
              "dtype: int64"
            ]
          },
          "metadata": {
            "tags": []
          },
          "execution_count": 34
        }
      ]
    },
    {
      "cell_type": "code",
      "metadata": {
        "id": "x3mCO5sLYZd6",
        "outputId": "6e604c24-76be-4992-82fe-6c8844754b86"
      },
      "source": [
        "df.info()"
      ],
      "execution_count": null,
      "outputs": [
        {
          "output_type": "stream",
          "text": [
            "<class 'pandas.core.frame.DataFrame'>\n",
            "Int64Index: 194 entries, 0 to 193\n",
            "Data columns (total 7 columns):\n",
            "geo         194 non-null object\n",
            "co2         194 non-null float64\n",
            "ele_use     194 non-null float64\n",
            "forest      194 non-null float64\n",
            "income      194 non-null float64\n",
            "industry    194 non-null float64\n",
            "year        194 non-null float64\n",
            "dtypes: float64(6), object(1)\n",
            "memory usage: 12.1+ KB\n"
          ],
          "name": "stdout"
        }
      ]
    },
    {
      "cell_type": "code",
      "metadata": {
        "id": "kXXwLjhrYZd6",
        "outputId": "7620f37a-fb29-4208-8788-2283fc7581a3"
      },
      "source": [
        "df.columns"
      ],
      "execution_count": null,
      "outputs": [
        {
          "output_type": "execute_result",
          "data": {
            "text/plain": [
              "Index(['geo', 'co2', 'ele_use', 'forest', 'income', 'industry', 'year'], dtype='object')"
            ]
          },
          "metadata": {
            "tags": []
          },
          "execution_count": 36
        }
      ]
    },
    {
      "cell_type": "markdown",
      "metadata": {
        "id": "nQsr2DfYYZd6"
      },
      "source": [
        "## Hence, we managed all the missing values and manipulated the data."
      ]
    },
    {
      "cell_type": "markdown",
      "metadata": {
        "id": "5N_c7_M_YZd6"
      },
      "source": [
        "# Step 3: Data Visualisation"
      ]
    },
    {
      "cell_type": "code",
      "metadata": {
        "id": "OR67vDNGYZd6",
        "outputId": "90306f94-a4dd-4c87-b86d-2234c57f526f"
      },
      "source": [
        "# Visualizing our data\n",
        "sns.pairplot(df)\n",
        "plt.show()"
      ],
      "execution_count": null,
      "outputs": [
        {
          "output_type": "display_data",
          "data": {
            "image/png": "[encoded data removed]",
            "text/plain": [
              "<Figure size 1080x1080 with 42 Axes>"
            ]
          },
          "metadata": {
            "tags": [],
            "needs_background": "light"
          }
        }
      ]
    },
    {
      "cell_type": "code",
      "metadata": {
        "id": "qfBLGqf6YZd6",
        "outputId": "d3b92d73-9dc6-429a-c823-b6180df3ce40"
      },
      "source": [
        "sns.jointplot('ele_use', 'co2', df)\n",
        "plt.show()\n",
        "sns.jointplot('forest', 'co2', df)\n",
        "plt.show()\n",
        "sns.jointplot('income', 'co2', df)\n",
        "plt.show()\n",
        "sns.jointplot('industry', 'co2', df)\n",
        "plt.show()\n",
        "sns.jointplot('year', 'co2', df)\n",
        "plt.show()"
      ],
      "execution_count": null,
      "outputs": [
        {
          "output_type": "display_data",
          "data": {
            "image/png": "[encoded data removed]",
            "text/plain": [
              "<Figure size 432x432 with 3 Axes>"
            ]
          },
          "metadata": {
            "tags": [],
            "needs_background": "light"
          }
        },
        {
          "output_type": "display_data",
          "data": {
            "image/png": "[encoded data removed]",
            "text/plain": [
              "<Figure size 432x432 with 3 Axes>"
            ]
          },
          "metadata": {
            "tags": [],
            "needs_background": "light"
          }
        },
        {
          "output_type": "display_data",
          "data": {
            "image/png": "[encoded data removed]",
            "text/plain": [
              "<Figure size 432x432 with 3 Axes>"
            ]
          },
          "metadata": {
            "tags": [],
            "needs_background": "light"
          }
        },
        {
          "output_type": "display_data",
          "data": {
            "image/png": "[encoded data removed]",
            "text/plain": [
              "<Figure size 432x432 with 3 Axes>"
            ]
          },
          "metadata": {
            "tags": [],
            "needs_background": "light"
          }
        },
        {
          "output_type": "display_data",
          "data": {
            "image/png": "[encoded data removed]",
            "text/plain": [
              "<Figure size 432x432 with 3 Axes>"
            ]
          },
          "metadata": {
            "tags": [],
            "needs_background": "light"
          }
        }
      ]
    },
    {
      "cell_type": "markdown",
      "metadata": {
        "id": "FaCUoYusYZd6"
      },
      "source": [
        "## Now treating the outliers"
      ]
    },
    {
      "cell_type": "code",
      "metadata": {
        "id": "ihppvtsRYZd6"
      },
      "source": [
        "#treating outliers\n",
        "df=df[(df.ele_use<50000)]\n",
        "df=df[(df.income<100000)]"
      ],
      "execution_count": null,
      "outputs": []
    },
    {
      "cell_type": "code",
      "metadata": {
        "id": "atOZKxuCYZd6",
        "outputId": "0bf0cf08-1382-4ac6-d491-432332b1eb72"
      },
      "source": [
        "sns.jointplot('ele_use', 'co2', df)\n",
        "plt.show()\n",
        "sns.jointplot('forest', 'co2', df)\n",
        "plt.show()\n",
        "sns.jointplot('income', 'co2', df)\n",
        "plt.show()\n",
        "sns.jointplot('industry', 'co2', df)\n",
        "plt.show()\n",
        "sns.jointplot('year', 'co2', df)\n",
        "plt.show()"
      ],
      "execution_count": null,
      "outputs": [
        {
          "output_type": "display_data",
          "data": {
            "image/png": "[encoded data removed]",
            "text/plain": [
              "<Figure size 432x432 with 3 Axes>"
            ]
          },
          "metadata": {
            "tags": [],
            "needs_background": "light"
          }
        },
        {
          "output_type": "display_data",
          "data": {
            "image/png": "[encoded data removed]",
            "text/plain": [
              "<Figure size 432x432 with 3 Axes>"
            ]
          },
          "metadata": {
            "tags": [],
            "needs_background": "light"
          }
        },
        {
          "output_type": "display_data",
          "data": {
            "image/png": "[encoded data removed]",
            "text/plain": [
              "<Figure size 432x432 with 3 Axes>"
            ]
          },
          "metadata": {
            "tags": [],
            "needs_background": "light"
          }
        },
        {
          "output_type": "display_data",
          "data": {
            "image/png": "[encoded data removed]",
            "text/plain": [
              "<Figure size 432x432 with 3 Axes>"
            ]
          },
          "metadata": {
            "tags": [],
            "needs_background": "light"
          }
        },
        {
          "output_type": "display_data",
          "data": {
            "image/png": "[encoded data removed]",
            "text/plain": [
              "<Figure size 432x432 with 3 Axes>"
            ]
          },
          "metadata": {
            "tags": [],
            "needs_background": "light"
          }
        }
      ]
    },
    {
      "cell_type": "code",
      "metadata": {
        "id": "eXflbWyjYZd6",
        "outputId": "e20f5e1d-4cc0-4ebc-cef5-ced7dab1be74"
      },
      "source": [
        "# Now checking the correlation of our data\n",
        "#Checking the correlation of our target variable with other variables\n",
        "plt.figure(figsize = (10, 10))\n",
        "sns.heatmap(df.corr(), annot = True, cmap=\"YlGnBu\")\n",
        "plt.show()"
      ],
      "execution_count": null,
      "outputs": [
        {
          "output_type": "display_data",
          "data": {
            "image/png": "[encoded data removed]",
            "text/plain": [
              "<Figure size 720x720 with 2 Axes>"
            ]
          },
          "metadata": {
            "tags": [],
            "needs_background": "light"
          }
        }
      ]
    },
    {
      "cell_type": "markdown",
      "metadata": {
        "id": "s1AzF-N0YZd6"
      },
      "source": [
        "# Step 4: Data Prepration"
      ]
    },
    {
      "cell_type": "code",
      "metadata": {
        "id": "PIsNOuvOYZd6",
        "outputId": "a8f9109f-d6a5-4a02-f670-31013d0472f1"
      },
      "source": [
        "# Splitting our data into target and independent variables\n",
        "x= df.drop(['geo','co2'], axis=1)\n",
        "x.head()"
      ],
      "execution_count": null,
      "outputs": [
        {
          "output_type": "execute_result",
          "data": {
            "text/html": [
              "<div>\n",
              "<style scoped>\n",
              "    .dataframe tbody tr th:only-of-type {\n",
              "        vertical-align: middle;\n",
              "    }\n",
              "\n",
              "    .dataframe tbody tr th {\n",
              "        vertical-align: top;\n",
              "    }\n",
              "\n",
              "    .dataframe thead th {\n",
              "        text-align: right;\n",
              "    }\n",
              "</style>\n",
              "<table border=\"1\" class=\"dataframe\">\n",
              "  <thead>\n",
              "    <tr style=\"text-align: right;\">\n",
              "      <th></th>\n",
              "      <th>ele_use</th>\n",
              "      <th>forest</th>\n",
              "      <th>income</th>\n",
              "      <th>industry</th>\n",
              "      <th>year</th>\n",
              "    </tr>\n",
              "  </thead>\n",
              "  <tbody>\n",
              "    <tr>\n",
              "      <td>0</td>\n",
              "      <td>4253.621898</td>\n",
              "      <td>2.07</td>\n",
              "      <td>1780.0</td>\n",
              "      <td>21.100000</td>\n",
              "      <td>9810.0</td>\n",
              "    </tr>\n",
              "    <tr>\n",
              "      <td>1</td>\n",
              "      <td>2310.000000</td>\n",
              "      <td>28.20</td>\n",
              "      <td>10700.0</td>\n",
              "      <td>21.500000</td>\n",
              "      <td>5720.0</td>\n",
              "    </tr>\n",
              "    <tr>\n",
              "      <td>2</td>\n",
              "      <td>1360.000000</td>\n",
              "      <td>0.82</td>\n",
              "      <td>13500.0</td>\n",
              "      <td>42.300000</td>\n",
              "      <td>145000.0</td>\n",
              "    </tr>\n",
              "    <tr>\n",
              "      <td>3</td>\n",
              "      <td>4253.621898</td>\n",
              "      <td>34.00</td>\n",
              "      <td>44900.0</td>\n",
              "      <td>9.910000</td>\n",
              "      <td>462.0</td>\n",
              "    </tr>\n",
              "    <tr>\n",
              "      <td>4</td>\n",
              "      <td>312.000000</td>\n",
              "      <td>46.50</td>\n",
              "      <td>6260.0</td>\n",
              "      <td>26.761093</td>\n",
              "      <td>34800.0</td>\n",
              "    </tr>\n",
              "  </tbody>\n",
              "</table>\n",
              "</div>"
            ],
            "text/plain": [
              "       ele_use  forest   income   industry      year\n",
              "0  4253.621898    2.07   1780.0  21.100000    9810.0\n",
              "1  2310.000000   28.20  10700.0  21.500000    5720.0\n",
              "2  1360.000000    0.82  13500.0  42.300000  145000.0\n",
              "3  4253.621898   34.00  44900.0   9.910000     462.0\n",
              "4   312.000000   46.50   6260.0  26.761093   34800.0"
            ]
          },
          "metadata": {
            "tags": []
          },
          "execution_count": 42
        }
      ]
    },
    {
      "cell_type": "code",
      "metadata": {
        "id": "JdJ4ESeFYZd6",
        "outputId": "d4b00f3e-8f21-413c-cc17-4fca0f31dada"
      },
      "source": [
        "y=df['co2']\n",
        "y.head()"
      ],
      "execution_count": null,
      "outputs": [
        {
          "output_type": "execute_result",
          "data": {
            "text/plain": [
              "0    0.299\n",
              "1    1.960\n",
              "2    3.720\n",
              "3    5.830\n",
              "4    1.290\n",
              "Name: co2, dtype: float64"
            ]
          },
          "metadata": {
            "tags": []
          },
          "execution_count": 43
        }
      ]
    },
    {
      "cell_type": "code",
      "metadata": {
        "id": "urOG0PbaYZd7",
        "outputId": "eb194372-d5db-4f77-9150-23745e7a6c15"
      },
      "source": [
        "# scaling the features\n",
        "from sklearn.preprocessing import scale\n",
        "\n",
        "# storing column names in cols, since column names are (annoyingly) lost after \n",
        "# scaling (the df is converted to a numpy array)\n",
        "cols = x.columns\n",
        "x = pd.DataFrame(scale(x))\n",
        "x.columns = cols\n",
        "x.columns"
      ],
      "execution_count": null,
      "outputs": [
        {
          "output_type": "execute_result",
          "data": {
            "text/plain": [
              "Index(['ele_use', 'forest', 'income', 'industry', 'year'], dtype='object')"
            ]
          },
          "metadata": {
            "tags": []
          },
          "execution_count": 44
        }
      ]
    },
    {
      "cell_type": "code",
      "metadata": {
        "id": "g9gsWhfMYZd7"
      },
      "source": [
        "# split into train and test\n",
        "from sklearn.model_selection import train_test_split\n",
        "X_train, X_test, y_train, y_test = train_test_split(x, y, \n",
        "                                                    train_size=0.7,\n",
        "                                                    test_size = 0.3, random_state=100)"
      ],
      "execution_count": null,
      "outputs": []
    },
    {
      "cell_type": "markdown",
      "metadata": {
        "id": "t8irB8yVYZd7"
      },
      "source": [
        "# Step 5:Model Building and Evaluation"
      ]
    },
    {
      "cell_type": "markdown",
      "metadata": {
        "id": "rIqZvcxJYZd7"
      },
      "source": [
        "## Using lasso regression"
      ]
    },
    {
      "cell_type": "code",
      "metadata": {
        "id": "i9u8X--WYZd7",
        "outputId": "f260113f-0f78-4797-bfc6-2dbce013eb1b"
      },
      "source": [
        "lasso = Lasso()\n",
        "\n",
        "# list of alphas to tune\n",
        "params = {'alpha': [0.0001, 0.001, 0.01, 0.05, 0.1, \n",
        " 0.2, 0.3, 0.4, 0.5, 0.6, 0.7, 0.8, 0.9, 1.0, 2.0, 3.0, \n",
        " 4.0, 5.0, 6.0, 7.0, 8.0, 9.0, 10.0, 20, 50, 100, 500, 1000 ]}\n",
        "\n",
        "# cross validation\n",
        "folds = 5\n",
        "model_cv = GridSearchCV(estimator = lasso, \n",
        "                        param_grid = params, \n",
        "                        scoring= 'neg_mean_absolute_error', \n",
        "                        cv = folds, \n",
        "                        return_train_score=True,\n",
        "                        verbose = 1)            \n",
        "\n",
        "model_cv.fit(X_train, y_train) "
      ],
      "execution_count": null,
      "outputs": [
        {
          "output_type": "stream",
          "text": [
            "Fitting 5 folds for each of 28 candidates, totalling 140 fits\n"
          ],
          "name": "stdout"
        },
        {
          "output_type": "stream",
          "text": [
            "[Parallel(n_jobs=1)]: Using backend SequentialBackend with 1 concurrent workers.\n",
            "[Parallel(n_jobs=1)]: Done 140 out of 140 | elapsed:    0.4s finished\n"
          ],
          "name": "stderr"
        },
        {
          "output_type": "execute_result",
          "data": {
            "text/plain": [
              "GridSearchCV(cv=5, error_score='raise-deprecating',\n",
              "             estimator=Lasso(alpha=1.0, copy_X=True, fit_intercept=True,\n",
              "                             max_iter=1000, normalize=False, positive=False,\n",
              "                             precompute=False, random_state=None,\n",
              "                             selection='cyclic', tol=0.0001, warm_start=False),\n",
              "             iid='warn', n_jobs=None,\n",
              "             param_grid={'alpha': [0.0001, 0.001, 0.01, 0.05, 0.1, 0.2, 0.3,\n",
              "                                   0.4, 0.5, 0.6, 0.7, 0.8, 0.9, 1.0, 2.0, 3.0,\n",
              "                                   4.0, 5.0, 6.0, 7.0, 8.0, 9.0, 10.0, 20, 50,\n",
              "                                   100, 500, 1000]},\n",
              "             pre_dispatch='2*n_jobs', refit=True, return_train_score=True,\n",
              "             scoring='neg_mean_absolute_error', verbose=1)"
            ]
          },
          "metadata": {
            "tags": []
          },
          "execution_count": 46
        }
      ]
    },
    {
      "cell_type": "code",
      "metadata": {
        "id": "IiZwaEnXYZd7",
        "outputId": "c272aefa-3704-46d9-f009-4428d2b4090b"
      },
      "source": [
        "cv_results = pd.DataFrame(model_cv.cv_results_)\n",
        "cv_results.head()"
      ],
      "execution_count": null,
      "outputs": [
        {
          "output_type": "execute_result",
          "data": {
            "text/html": [
              "<div>\n",
              "<style scoped>\n",
              "    .dataframe tbody tr th:only-of-type {\n",
              "        vertical-align: middle;\n",
              "    }\n",
              "\n",
              "    .dataframe tbody tr th {\n",
              "        vertical-align: top;\n",
              "    }\n",
              "\n",
              "    .dataframe thead th {\n",
              "        text-align: right;\n",
              "    }\n",
              "</style>\n",
              "<table border=\"1\" class=\"dataframe\">\n",
              "  <thead>\n",
              "    <tr style=\"text-align: right;\">\n",
              "      <th></th>\n",
              "      <th>mean_fit_time</th>\n",
              "      <th>std_fit_time</th>\n",
              "      <th>mean_score_time</th>\n",
              "      <th>std_score_time</th>\n",
              "      <th>param_alpha</th>\n",
              "      <th>params</th>\n",
              "      <th>split0_test_score</th>\n",
              "      <th>split1_test_score</th>\n",
              "      <th>split2_test_score</th>\n",
              "      <th>split3_test_score</th>\n",
              "      <th>...</th>\n",
              "      <th>mean_test_score</th>\n",
              "      <th>std_test_score</th>\n",
              "      <th>rank_test_score</th>\n",
              "      <th>split0_train_score</th>\n",
              "      <th>split1_train_score</th>\n",
              "      <th>split2_train_score</th>\n",
              "      <th>split3_train_score</th>\n",
              "      <th>split4_train_score</th>\n",
              "      <th>mean_train_score</th>\n",
              "      <th>std_train_score</th>\n",
              "    </tr>\n",
              "  </thead>\n",
              "  <tbody>\n",
              "    <tr>\n",
              "      <td>0</td>\n",
              "      <td>0.001995</td>\n",
              "      <td>0.000630</td>\n",
              "      <td>0.001196</td>\n",
              "      <td>0.000400</td>\n",
              "      <td>0.0001</td>\n",
              "      <td>{'alpha': 0.0001}</td>\n",
              "      <td>-1.623682</td>\n",
              "      <td>-3.279831</td>\n",
              "      <td>-1.624474</td>\n",
              "      <td>-1.333355</td>\n",
              "      <td>...</td>\n",
              "      <td>-1.956006</td>\n",
              "      <td>0.689874</td>\n",
              "      <td>11</td>\n",
              "      <td>-1.830952</td>\n",
              "      <td>-1.554343</td>\n",
              "      <td>-1.858919</td>\n",
              "      <td>-1.921112</td>\n",
              "      <td>-1.820559</td>\n",
              "      <td>-1.797177</td>\n",
              "      <td>0.126355</td>\n",
              "    </tr>\n",
              "    <tr>\n",
              "      <td>1</td>\n",
              "      <td>0.001799</td>\n",
              "      <td>0.000401</td>\n",
              "      <td>0.000802</td>\n",
              "      <td>0.000401</td>\n",
              "      <td>0.001</td>\n",
              "      <td>{'alpha': 0.001}</td>\n",
              "      <td>-1.623824</td>\n",
              "      <td>-3.275315</td>\n",
              "      <td>-1.624223</td>\n",
              "      <td>-1.332923</td>\n",
              "      <td>...</td>\n",
              "      <td>-1.954905</td>\n",
              "      <td>0.688222</td>\n",
              "      <td>10</td>\n",
              "      <td>-1.830825</td>\n",
              "      <td>-1.554067</td>\n",
              "      <td>-1.858865</td>\n",
              "      <td>-1.920939</td>\n",
              "      <td>-1.820418</td>\n",
              "      <td>-1.797023</td>\n",
              "      <td>0.126410</td>\n",
              "    </tr>\n",
              "    <tr>\n",
              "      <td>2</td>\n",
              "      <td>0.001601</td>\n",
              "      <td>0.000494</td>\n",
              "      <td>0.000594</td>\n",
              "      <td>0.000485</td>\n",
              "      <td>0.01</td>\n",
              "      <td>{'alpha': 0.01}</td>\n",
              "      <td>-1.625448</td>\n",
              "      <td>-3.229997</td>\n",
              "      <td>-1.621260</td>\n",
              "      <td>-1.328440</td>\n",
              "      <td>...</td>\n",
              "      <td>-1.943776</td>\n",
              "      <td>0.671714</td>\n",
              "      <td>9</td>\n",
              "      <td>-1.829355</td>\n",
              "      <td>-1.551512</td>\n",
              "      <td>-1.858268</td>\n",
              "      <td>-1.919779</td>\n",
              "      <td>-1.819191</td>\n",
              "      <td>-1.795621</td>\n",
              "      <td>0.126982</td>\n",
              "    </tr>\n",
              "    <tr>\n",
              "      <td>3</td>\n",
              "      <td>0.001203</td>\n",
              "      <td>0.000396</td>\n",
              "      <td>0.001010</td>\n",
              "      <td>0.000017</td>\n",
              "      <td>0.05</td>\n",
              "      <td>{'alpha': 0.05}</td>\n",
              "      <td>-1.632663</td>\n",
              "      <td>-3.033372</td>\n",
              "      <td>-1.610551</td>\n",
              "      <td>-1.308513</td>\n",
              "      <td>...</td>\n",
              "      <td>-1.900400</td>\n",
              "      <td>0.600549</td>\n",
              "      <td>5</td>\n",
              "      <td>-1.823159</td>\n",
              "      <td>-1.541201</td>\n",
              "      <td>-1.857235</td>\n",
              "      <td>-1.916898</td>\n",
              "      <td>-1.814183</td>\n",
              "      <td>-1.790535</td>\n",
              "      <td>0.129775</td>\n",
              "    </tr>\n",
              "    <tr>\n",
              "      <td>4</td>\n",
              "      <td>0.001590</td>\n",
              "      <td>0.000497</td>\n",
              "      <td>0.000604</td>\n",
              "      <td>0.000493</td>\n",
              "      <td>0.1</td>\n",
              "      <td>{'alpha': 0.1}</td>\n",
              "      <td>-1.643105</td>\n",
              "      <td>-2.799111</td>\n",
              "      <td>-1.602886</td>\n",
              "      <td>-1.283604</td>\n",
              "      <td>...</td>\n",
              "      <td>-1.850652</td>\n",
              "      <td>0.517916</td>\n",
              "      <td>1</td>\n",
              "      <td>-1.819592</td>\n",
              "      <td>-1.529288</td>\n",
              "      <td>-1.856786</td>\n",
              "      <td>-1.916549</td>\n",
              "      <td>-1.811250</td>\n",
              "      <td>-1.786693</td>\n",
              "      <td>0.133954</td>\n",
              "    </tr>\n",
              "  </tbody>\n",
              "</table>\n",
              "<p>5 rows × 21 columns</p>\n",
              "</div>"
            ],
            "text/plain": [
              "   mean_fit_time  std_fit_time  mean_score_time  std_score_time param_alpha  \\\n",
              "0       0.001995      0.000630         0.001196        0.000400      0.0001   \n",
              "1       0.001799      0.000401         0.000802        0.000401       0.001   \n",
              "2       0.001601      0.000494         0.000594        0.000485        0.01   \n",
              "3       0.001203      0.000396         0.001010        0.000017        0.05   \n",
              "4       0.001590      0.000497         0.000604        0.000493         0.1   \n",
              "\n",
              "              params  split0_test_score  split1_test_score  split2_test_score  \\\n",
              "0  {'alpha': 0.0001}          -1.623682          -3.279831          -1.624474   \n",
              "1   {'alpha': 0.001}          -1.623824          -3.275315          -1.624223   \n",
              "2    {'alpha': 0.01}          -1.625448          -3.229997          -1.621260   \n",
              "3    {'alpha': 0.05}          -1.632663          -3.033372          -1.610551   \n",
              "4     {'alpha': 0.1}          -1.643105          -2.799111          -1.602886   \n",
              "\n",
              "   split3_test_score  ...  mean_test_score  std_test_score  rank_test_score  \\\n",
              "0          -1.333355  ...        -1.956006        0.689874               11   \n",
              "1          -1.332923  ...        -1.954905        0.688222               10   \n",
              "2          -1.328440  ...        -1.943776        0.671714                9   \n",
              "3          -1.308513  ...        -1.900400        0.600549                5   \n",
              "4          -1.283604  ...        -1.850652        0.517916                1   \n",
              "\n",
              "   split0_train_score  split1_train_score  split2_train_score  \\\n",
              "0           -1.830952           -1.554343           -1.858919   \n",
              "1           -1.830825           -1.554067           -1.858865   \n",
              "2           -1.829355           -1.551512           -1.858268   \n",
              "3           -1.823159           -1.541201           -1.857235   \n",
              "4           -1.819592           -1.529288           -1.856786   \n",
              "\n",
              "   split3_train_score  split4_train_score  mean_train_score  std_train_score  \n",
              "0           -1.921112           -1.820559         -1.797177         0.126355  \n",
              "1           -1.920939           -1.820418         -1.797023         0.126410  \n",
              "2           -1.919779           -1.819191         -1.795621         0.126982  \n",
              "3           -1.916898           -1.814183         -1.790535         0.129775  \n",
              "4           -1.916549           -1.811250         -1.786693         0.133954  \n",
              "\n",
              "[5 rows x 21 columns]"
            ]
          },
          "metadata": {
            "tags": []
          },
          "execution_count": 47
        }
      ]
    },
    {
      "cell_type": "code",
      "metadata": {
        "scrolled": true,
        "id": "S7aYwkBqYZd7",
        "outputId": "e87c36e9-19e1-4b5c-fa87-0e498e3be427"
      },
      "source": [
        "# plotting mean test and train scoes with alpha \n",
        "cv_results['param_alpha'] = cv_results['param_alpha'].astype('float32')\n",
        "\n",
        "# plotting\n",
        "plt.plot(cv_results['param_alpha'], cv_results['mean_train_score'])\n",
        "plt.plot(cv_results['param_alpha'], cv_results['mean_test_score'])\n",
        "plt.xlabel('alpha')\n",
        "plt.ylabel('Negative Mean Absolute Error')\n",
        "\n",
        "plt.title(\"Negative Mean Absolute Error and alpha\")\n",
        "plt.legend(['train score', 'test score'], loc='upper left')\n",
        "plt.show()"
      ],
      "execution_count": null,
      "outputs": [
        {
          "output_type": "display_data",
          "data": {
            "image/png": "[encoded data removed]",
            "text/plain": [
              "<Figure size 432x288 with 1 Axes>"
            ]
          },
          "metadata": {
            "tags": [],
            "needs_background": "light"
          }
        }
      ]
    },
    {
      "cell_type": "code",
      "metadata": {
        "id": "um_WcOHUYZd7",
        "outputId": "4a310db6-3389-467b-f35e-1d6edcd5fa0f"
      },
      "source": [
        "cv_results"
      ],
      "execution_count": null,
      "outputs": [
        {
          "output_type": "execute_result",
          "data": {
            "text/html": [
              "<div>\n",
              "<style scoped>\n",
              "    .dataframe tbody tr th:only-of-type {\n",
              "        vertical-align: middle;\n",
              "    }\n",
              "\n",
              "    .dataframe tbody tr th {\n",
              "        vertical-align: top;\n",
              "    }\n",
              "\n",
              "    .dataframe thead th {\n",
              "        text-align: right;\n",
              "    }\n",
              "</style>\n",
              "<table border=\"1\" class=\"dataframe\">\n",
              "  <thead>\n",
              "    <tr style=\"text-align: right;\">\n",
              "      <th></th>\n",
              "      <th>mean_fit_time</th>\n",
              "      <th>std_fit_time</th>\n",
              "      <th>mean_score_time</th>\n",
              "      <th>std_score_time</th>\n",
              "      <th>param_alpha</th>\n",
              "      <th>params</th>\n",
              "      <th>split0_test_score</th>\n",
              "      <th>split1_test_score</th>\n",
              "      <th>split2_test_score</th>\n",
              "      <th>split3_test_score</th>\n",
              "      <th>...</th>\n",
              "      <th>mean_test_score</th>\n",
              "      <th>std_test_score</th>\n",
              "      <th>rank_test_score</th>\n",
              "      <th>split0_train_score</th>\n",
              "      <th>split1_train_score</th>\n",
              "      <th>split2_train_score</th>\n",
              "      <th>split3_train_score</th>\n",
              "      <th>split4_train_score</th>\n",
              "      <th>mean_train_score</th>\n",
              "      <th>std_train_score</th>\n",
              "    </tr>\n",
              "  </thead>\n",
              "  <tbody>\n",
              "    <tr>\n",
              "      <td>0</td>\n",
              "      <td>0.001995</td>\n",
              "      <td>0.000630</td>\n",
              "      <td>0.001196</td>\n",
              "      <td>0.000400</td>\n",
              "      <td>0.0001</td>\n",
              "      <td>{'alpha': 0.0001}</td>\n",
              "      <td>-1.623682</td>\n",
              "      <td>-3.279831</td>\n",
              "      <td>-1.624474</td>\n",
              "      <td>-1.333355</td>\n",
              "      <td>...</td>\n",
              "      <td>-1.956006</td>\n",
              "      <td>0.689874</td>\n",
              "      <td>11</td>\n",
              "      <td>-1.830952</td>\n",
              "      <td>-1.554343</td>\n",
              "      <td>-1.858919</td>\n",
              "      <td>-1.921112</td>\n",
              "      <td>-1.820559</td>\n",
              "      <td>-1.797177</td>\n",
              "      <td>0.126355</td>\n",
              "    </tr>\n",
              "    <tr>\n",
              "      <td>1</td>\n",
              "      <td>0.001799</td>\n",
              "      <td>0.000401</td>\n",
              "      <td>0.000802</td>\n",
              "      <td>0.000401</td>\n",
              "      <td>0.0010</td>\n",
              "      <td>{'alpha': 0.001}</td>\n",
              "      <td>-1.623824</td>\n",
              "      <td>-3.275315</td>\n",
              "      <td>-1.624223</td>\n",
              "      <td>-1.332923</td>\n",
              "      <td>...</td>\n",
              "      <td>-1.954905</td>\n",
              "      <td>0.688222</td>\n",
              "      <td>10</td>\n",
              "      <td>-1.830825</td>\n",
              "      <td>-1.554067</td>\n",
              "      <td>-1.858865</td>\n",
              "      <td>-1.920939</td>\n",
              "      <td>-1.820418</td>\n",
              "      <td>-1.797023</td>\n",
              "      <td>0.126410</td>\n",
              "    </tr>\n",
              "    <tr>\n",
              "      <td>2</td>\n",
              "      <td>0.001601</td>\n",
              "      <td>0.000494</td>\n",
              "      <td>0.000594</td>\n",
              "      <td>0.000485</td>\n",
              "      <td>0.0100</td>\n",
              "      <td>{'alpha': 0.01}</td>\n",
              "      <td>-1.625448</td>\n",
              "      <td>-3.229997</td>\n",
              "      <td>-1.621260</td>\n",
              "      <td>-1.328440</td>\n",
              "      <td>...</td>\n",
              "      <td>-1.943776</td>\n",
              "      <td>0.671714</td>\n",
              "      <td>9</td>\n",
              "      <td>-1.829355</td>\n",
              "      <td>-1.551512</td>\n",
              "      <td>-1.858268</td>\n",
              "      <td>-1.919779</td>\n",
              "      <td>-1.819191</td>\n",
              "      <td>-1.795621</td>\n",
              "      <td>0.126982</td>\n",
              "    </tr>\n",
              "    <tr>\n",
              "      <td>3</td>\n",
              "      <td>0.001203</td>\n",
              "      <td>0.000396</td>\n",
              "      <td>0.001010</td>\n",
              "      <td>0.000017</td>\n",
              "      <td>0.0500</td>\n",
              "      <td>{'alpha': 0.05}</td>\n",
              "      <td>-1.632663</td>\n",
              "      <td>-3.033372</td>\n",
              "      <td>-1.610551</td>\n",
              "      <td>-1.308513</td>\n",
              "      <td>...</td>\n",
              "      <td>-1.900400</td>\n",
              "      <td>0.600549</td>\n",
              "      <td>5</td>\n",
              "      <td>-1.823159</td>\n",
              "      <td>-1.541201</td>\n",
              "      <td>-1.857235</td>\n",
              "      <td>-1.916898</td>\n",
              "      <td>-1.814183</td>\n",
              "      <td>-1.790535</td>\n",
              "      <td>0.129775</td>\n",
              "    </tr>\n",
              "    <tr>\n",
              "      <td>4</td>\n",
              "      <td>0.001590</td>\n",
              "      <td>0.000497</td>\n",
              "      <td>0.000604</td>\n",
              "      <td>0.000493</td>\n",
              "      <td>0.1000</td>\n",
              "      <td>{'alpha': 0.1}</td>\n",
              "      <td>-1.643105</td>\n",
              "      <td>-2.799111</td>\n",
              "      <td>-1.602886</td>\n",
              "      <td>-1.283604</td>\n",
              "      <td>...</td>\n",
              "      <td>-1.850652</td>\n",
              "      <td>0.517916</td>\n",
              "      <td>1</td>\n",
              "      <td>-1.819592</td>\n",
              "      <td>-1.529288</td>\n",
              "      <td>-1.856786</td>\n",
              "      <td>-1.916549</td>\n",
              "      <td>-1.811250</td>\n",
              "      <td>-1.786693</td>\n",
              "      <td>0.133954</td>\n",
              "    </tr>\n",
              "    <tr>\n",
              "      <td>5</td>\n",
              "      <td>0.001787</td>\n",
              "      <td>0.000393</td>\n",
              "      <td>0.000800</td>\n",
              "      <td>0.000400</td>\n",
              "      <td>0.2000</td>\n",
              "      <td>{'alpha': 0.2}</td>\n",
              "      <td>-1.664726</td>\n",
              "      <td>-2.788482</td>\n",
              "      <td>-1.595334</td>\n",
              "      <td>-1.249518</td>\n",
              "      <td>...</td>\n",
              "      <td>-1.850810</td>\n",
              "      <td>0.521968</td>\n",
              "      <td>2</td>\n",
              "      <td>-1.826272</td>\n",
              "      <td>-1.562404</td>\n",
              "      <td>-1.866415</td>\n",
              "      <td>-1.922907</td>\n",
              "      <td>-1.814078</td>\n",
              "      <td>-1.798415</td>\n",
              "      <td>0.123971</td>\n",
              "    </tr>\n",
              "    <tr>\n",
              "      <td>6</td>\n",
              "      <td>0.001987</td>\n",
              "      <td>0.000622</td>\n",
              "      <td>0.000793</td>\n",
              "      <td>0.000396</td>\n",
              "      <td>0.3000</td>\n",
              "      <td>{'alpha': 0.3}</td>\n",
              "      <td>-1.686347</td>\n",
              "      <td>-2.820155</td>\n",
              "      <td>-1.595072</td>\n",
              "      <td>-1.229531</td>\n",
              "      <td>...</td>\n",
              "      <td>-1.865700</td>\n",
              "      <td>0.538489</td>\n",
              "      <td>3</td>\n",
              "      <td>-1.845640</td>\n",
              "      <td>-1.573389</td>\n",
              "      <td>-1.891985</td>\n",
              "      <td>-1.954398</td>\n",
              "      <td>-1.819268</td>\n",
              "      <td>-1.816936</td>\n",
              "      <td>0.130133</td>\n",
              "    </tr>\n",
              "    <tr>\n",
              "      <td>7</td>\n",
              "      <td>0.001795</td>\n",
              "      <td>0.000974</td>\n",
              "      <td>0.001003</td>\n",
              "      <td>0.000013</td>\n",
              "      <td>0.4000</td>\n",
              "      <td>{'alpha': 0.4}</td>\n",
              "      <td>-1.712886</td>\n",
              "      <td>-2.881626</td>\n",
              "      <td>-1.598727</td>\n",
              "      <td>-1.212327</td>\n",
              "      <td>...</td>\n",
              "      <td>-1.886659</td>\n",
              "      <td>0.563956</td>\n",
              "      <td>4</td>\n",
              "      <td>-1.871217</td>\n",
              "      <td>-1.586422</td>\n",
              "      <td>-1.921465</td>\n",
              "      <td>-1.995483</td>\n",
              "      <td>-1.821121</td>\n",
              "      <td>-1.839142</td>\n",
              "      <td>0.138882</td>\n",
              "    </tr>\n",
              "    <tr>\n",
              "      <td>8</td>\n",
              "      <td>0.001773</td>\n",
              "      <td>0.000404</td>\n",
              "      <td>0.000408</td>\n",
              "      <td>0.000500</td>\n",
              "      <td>0.5000</td>\n",
              "      <td>{'alpha': 0.5}</td>\n",
              "      <td>-1.749590</td>\n",
              "      <td>-2.914875</td>\n",
              "      <td>-1.586006</td>\n",
              "      <td>-1.200614</td>\n",
              "      <td>...</td>\n",
              "      <td>-1.901766</td>\n",
              "      <td>0.579408</td>\n",
              "      <td>6</td>\n",
              "      <td>-1.890187</td>\n",
              "      <td>-1.599154</td>\n",
              "      <td>-1.938238</td>\n",
              "      <td>-2.030967</td>\n",
              "      <td>-1.829055</td>\n",
              "      <td>-1.857520</td>\n",
              "      <td>0.145072</td>\n",
              "    </tr>\n",
              "    <tr>\n",
              "      <td>9</td>\n",
              "      <td>0.001569</td>\n",
              "      <td>0.000490</td>\n",
              "      <td>0.000806</td>\n",
              "      <td>0.000403</td>\n",
              "      <td>0.6000</td>\n",
              "      <td>{'alpha': 0.6}</td>\n",
              "      <td>-1.786293</td>\n",
              "      <td>-2.930292</td>\n",
              "      <td>-1.581472</td>\n",
              "      <td>-1.186564</td>\n",
              "      <td>...</td>\n",
              "      <td>-1.915678</td>\n",
              "      <td>0.589113</td>\n",
              "      <td>7</td>\n",
              "      <td>-1.911782</td>\n",
              "      <td>-1.612424</td>\n",
              "      <td>-1.950911</td>\n",
              "      <td>-2.048291</td>\n",
              "      <td>-1.840942</td>\n",
              "      <td>-1.872870</td>\n",
              "      <td>0.146444</td>\n",
              "    </tr>\n",
              "    <tr>\n",
              "      <td>10</td>\n",
              "      <td>0.001578</td>\n",
              "      <td>0.000486</td>\n",
              "      <td>0.000811</td>\n",
              "      <td>0.000406</td>\n",
              "      <td>0.7000</td>\n",
              "      <td>{'alpha': 0.7}</td>\n",
              "      <td>-1.824228</td>\n",
              "      <td>-2.952786</td>\n",
              "      <td>-1.592509</td>\n",
              "      <td>-1.190451</td>\n",
              "      <td>...</td>\n",
              "      <td>-1.938037</td>\n",
              "      <td>0.595386</td>\n",
              "      <td>8</td>\n",
              "      <td>-1.940126</td>\n",
              "      <td>-1.627488</td>\n",
              "      <td>-1.968716</td>\n",
              "      <td>-2.072341</td>\n",
              "      <td>-1.860208</td>\n",
              "      <td>-1.893776</td>\n",
              "      <td>0.149456</td>\n",
              "    </tr>\n",
              "    <tr>\n",
              "      <td>11</td>\n",
              "      <td>0.002196</td>\n",
              "      <td>0.000734</td>\n",
              "      <td>0.000804</td>\n",
              "      <td>0.000402</td>\n",
              "      <td>0.8000</td>\n",
              "      <td>{'alpha': 0.8}</td>\n",
              "      <td>-1.871696</td>\n",
              "      <td>-2.978052</td>\n",
              "      <td>-1.603545</td>\n",
              "      <td>-1.201649</td>\n",
              "      <td>...</td>\n",
              "      <td>-1.964348</td>\n",
              "      <td>0.600665</td>\n",
              "      <td>12</td>\n",
              "      <td>-1.970015</td>\n",
              "      <td>-1.643026</td>\n",
              "      <td>-1.988865</td>\n",
              "      <td>-2.097845</td>\n",
              "      <td>-1.881309</td>\n",
              "      <td>-1.916212</td>\n",
              "      <td>0.152979</td>\n",
              "    </tr>\n",
              "    <tr>\n",
              "      <td>12</td>\n",
              "      <td>0.001190</td>\n",
              "      <td>0.000403</td>\n",
              "      <td>0.000997</td>\n",
              "      <td>0.000028</td>\n",
              "      <td>0.9000</td>\n",
              "      <td>{'alpha': 0.9}</td>\n",
              "      <td>-1.938238</td>\n",
              "      <td>-3.003319</td>\n",
              "      <td>-1.614581</td>\n",
              "      <td>-1.212848</td>\n",
              "      <td>...</td>\n",
              "      <td>-1.994504</td>\n",
              "      <td>0.605833</td>\n",
              "      <td>13</td>\n",
              "      <td>-2.015302</td>\n",
              "      <td>-1.664380</td>\n",
              "      <td>-2.009389</td>\n",
              "      <td>-2.124085</td>\n",
              "      <td>-1.913264</td>\n",
              "      <td>-1.945284</td>\n",
              "      <td>0.155508</td>\n",
              "    </tr>\n",
              "    <tr>\n",
              "      <td>13</td>\n",
              "      <td>0.001595</td>\n",
              "      <td>0.000495</td>\n",
              "      <td>0.000605</td>\n",
              "      <td>0.000494</td>\n",
              "      <td>1.0000</td>\n",
              "      <td>{'alpha': 1.0}</td>\n",
              "      <td>-2.016176</td>\n",
              "      <td>-3.028585</td>\n",
              "      <td>-1.635234</td>\n",
              "      <td>-1.225757</td>\n",
              "      <td>...</td>\n",
              "      <td>-2.031724</td>\n",
              "      <td>0.610797</td>\n",
              "      <td>14</td>\n",
              "      <td>-2.065386</td>\n",
              "      <td>-1.701557</td>\n",
              "      <td>-2.033270</td>\n",
              "      <td>-2.156255</td>\n",
              "      <td>-1.963951</td>\n",
              "      <td>-1.984084</td>\n",
              "      <td>0.154207</td>\n",
              "    </tr>\n",
              "    <tr>\n",
              "      <td>14</td>\n",
              "      <td>0.001980</td>\n",
              "      <td>0.000024</td>\n",
              "      <td>0.000197</td>\n",
              "      <td>0.000394</td>\n",
              "      <td>2.0000</td>\n",
              "      <td>{'alpha': 2.0}</td>\n",
              "      <td>-2.866689</td>\n",
              "      <td>-3.306513</td>\n",
              "      <td>-2.113314</td>\n",
              "      <td>-1.804586</td>\n",
              "      <td>...</td>\n",
              "      <td>-2.572720</td>\n",
              "      <td>0.543756</td>\n",
              "      <td>15</td>\n",
              "      <td>-2.586914</td>\n",
              "      <td>-2.157217</td>\n",
              "      <td>-2.508072</td>\n",
              "      <td>-2.659911</td>\n",
              "      <td>-2.533999</td>\n",
              "      <td>-2.489223</td>\n",
              "      <td>0.173934</td>\n",
              "    </tr>\n",
              "    <tr>\n",
              "      <td>15</td>\n",
              "      <td>0.001789</td>\n",
              "      <td>0.000398</td>\n",
              "      <td>0.000398</td>\n",
              "      <td>0.000487</td>\n",
              "      <td>3.0000</td>\n",
              "      <td>{'alpha': 3.0}</td>\n",
              "      <td>-3.497085</td>\n",
              "      <td>-3.653909</td>\n",
              "      <td>-2.598509</td>\n",
              "      <td>-2.322828</td>\n",
              "      <td>...</td>\n",
              "      <td>-3.125254</td>\n",
              "      <td>0.555218</td>\n",
              "      <td>16</td>\n",
              "      <td>-3.050825</td>\n",
              "      <td>-2.739771</td>\n",
              "      <td>-3.015321</td>\n",
              "      <td>-3.161783</td>\n",
              "      <td>-3.212917</td>\n",
              "      <td>-3.036124</td>\n",
              "      <td>0.164633</td>\n",
              "    </tr>\n",
              "    <tr>\n",
              "      <td>16</td>\n",
              "      <td>0.002203</td>\n",
              "      <td>0.000411</td>\n",
              "      <td>0.000204</td>\n",
              "      <td>0.000408</td>\n",
              "      <td>4.0000</td>\n",
              "      <td>{'alpha': 4.0}</td>\n",
              "      <td>-4.156454</td>\n",
              "      <td>-4.062773</td>\n",
              "      <td>-3.160750</td>\n",
              "      <td>-3.040654</td>\n",
              "      <td>...</td>\n",
              "      <td>-3.690194</td>\n",
              "      <td>0.487313</td>\n",
              "      <td>17</td>\n",
              "      <td>-3.644092</td>\n",
              "      <td>-3.374860</td>\n",
              "      <td>-3.610451</td>\n",
              "      <td>-3.813009</td>\n",
              "      <td>-3.604177</td>\n",
              "      <td>-3.609318</td>\n",
              "      <td>0.139784</td>\n",
              "    </tr>\n",
              "    <tr>\n",
              "      <td>17</td>\n",
              "      <td>0.001213</td>\n",
              "      <td>0.000406</td>\n",
              "      <td>0.000784</td>\n",
              "      <td>0.000392</td>\n",
              "      <td>5.0000</td>\n",
              "      <td>{'alpha': 5.0}</td>\n",
              "      <td>-4.156454</td>\n",
              "      <td>-4.205025</td>\n",
              "      <td>-3.537133</td>\n",
              "      <td>-3.395925</td>\n",
              "      <td>...</td>\n",
              "      <td>-3.866280</td>\n",
              "      <td>0.335532</td>\n",
              "      <td>18</td>\n",
              "      <td>-3.644092</td>\n",
              "      <td>-3.609388</td>\n",
              "      <td>-3.970531</td>\n",
              "      <td>-4.136648</td>\n",
              "      <td>-3.604177</td>\n",
              "      <td>-3.792967</td>\n",
              "      <td>0.219614</td>\n",
              "    </tr>\n",
              "    <tr>\n",
              "      <td>18</td>\n",
              "      <td>0.001397</td>\n",
              "      <td>0.000478</td>\n",
              "      <td>0.000799</td>\n",
              "      <td>0.000399</td>\n",
              "      <td>6.0000</td>\n",
              "      <td>{'alpha': 6.0}</td>\n",
              "      <td>-4.156454</td>\n",
              "      <td>-4.205025</td>\n",
              "      <td>-3.537133</td>\n",
              "      <td>-3.395925</td>\n",
              "      <td>...</td>\n",
              "      <td>-3.866280</td>\n",
              "      <td>0.335532</td>\n",
              "      <td>18</td>\n",
              "      <td>-3.644092</td>\n",
              "      <td>-3.609388</td>\n",
              "      <td>-3.970531</td>\n",
              "      <td>-4.136648</td>\n",
              "      <td>-3.604177</td>\n",
              "      <td>-3.792967</td>\n",
              "      <td>0.219614</td>\n",
              "    </tr>\n",
              "    <tr>\n",
              "      <td>19</td>\n",
              "      <td>0.001983</td>\n",
              "      <td>0.000899</td>\n",
              "      <td>0.001214</td>\n",
              "      <td>0.000393</td>\n",
              "      <td>7.0000</td>\n",
              "      <td>{'alpha': 7.0}</td>\n",
              "      <td>-4.156454</td>\n",
              "      <td>-4.205025</td>\n",
              "      <td>-3.537133</td>\n",
              "      <td>-3.395925</td>\n",
              "      <td>...</td>\n",
              "      <td>-3.866280</td>\n",
              "      <td>0.335532</td>\n",
              "      <td>18</td>\n",
              "      <td>-3.644092</td>\n",
              "      <td>-3.609388</td>\n",
              "      <td>-3.970531</td>\n",
              "      <td>-4.136648</td>\n",
              "      <td>-3.604177</td>\n",
              "      <td>-3.792967</td>\n",
              "      <td>0.219614</td>\n",
              "    </tr>\n",
              "    <tr>\n",
              "      <td>20</td>\n",
              "      <td>0.001985</td>\n",
              "      <td>0.000618</td>\n",
              "      <td>0.001191</td>\n",
              "      <td>0.000740</td>\n",
              "      <td>8.0000</td>\n",
              "      <td>{'alpha': 8.0}</td>\n",
              "      <td>-4.156454</td>\n",
              "      <td>-4.205025</td>\n",
              "      <td>-3.537133</td>\n",
              "      <td>-3.395925</td>\n",
              "      <td>...</td>\n",
              "      <td>-3.866280</td>\n",
              "      <td>0.335532</td>\n",
              "      <td>18</td>\n",
              "      <td>-3.644092</td>\n",
              "      <td>-3.609388</td>\n",
              "      <td>-3.970531</td>\n",
              "      <td>-4.136648</td>\n",
              "      <td>-3.604177</td>\n",
              "      <td>-3.792967</td>\n",
              "      <td>0.219614</td>\n",
              "    </tr>\n",
              "    <tr>\n",
              "      <td>21</td>\n",
              "      <td>0.001990</td>\n",
              "      <td>0.000627</td>\n",
              "      <td>0.000801</td>\n",
              "      <td>0.000747</td>\n",
              "      <td>9.0000</td>\n",
              "      <td>{'alpha': 9.0}</td>\n",
              "      <td>-4.156454</td>\n",
              "      <td>-4.205025</td>\n",
              "      <td>-3.537133</td>\n",
              "      <td>-3.395925</td>\n",
              "      <td>...</td>\n",
              "      <td>-3.866280</td>\n",
              "      <td>0.335532</td>\n",
              "      <td>18</td>\n",
              "      <td>-3.644092</td>\n",
              "      <td>-3.609388</td>\n",
              "      <td>-3.970531</td>\n",
              "      <td>-4.136648</td>\n",
              "      <td>-3.604177</td>\n",
              "      <td>-3.792967</td>\n",
              "      <td>0.219614</td>\n",
              "    </tr>\n",
              "    <tr>\n",
              "      <td>22</td>\n",
              "      <td>0.001601</td>\n",
              "      <td>0.000508</td>\n",
              "      <td>0.001004</td>\n",
              "      <td>0.000017</td>\n",
              "      <td>10.0000</td>\n",
              "      <td>{'alpha': 10.0}</td>\n",
              "      <td>-4.156454</td>\n",
              "      <td>-4.205025</td>\n",
              "      <td>-3.537133</td>\n",
              "      <td>-3.395925</td>\n",
              "      <td>...</td>\n",
              "      <td>-3.866280</td>\n",
              "      <td>0.335532</td>\n",
              "      <td>18</td>\n",
              "      <td>-3.644092</td>\n",
              "      <td>-3.609388</td>\n",
              "      <td>-3.970531</td>\n",
              "      <td>-4.136648</td>\n",
              "      <td>-3.604177</td>\n",
              "      <td>-3.792967</td>\n",
              "      <td>0.219614</td>\n",
              "    </tr>\n",
              "    <tr>\n",
              "      <td>23</td>\n",
              "      <td>0.001785</td>\n",
              "      <td>0.000746</td>\n",
              "      <td>0.001005</td>\n",
              "      <td>0.000011</td>\n",
              "      <td>20.0000</td>\n",
              "      <td>{'alpha': 20}</td>\n",
              "      <td>-4.156454</td>\n",
              "      <td>-4.205025</td>\n",
              "      <td>-3.537133</td>\n",
              "      <td>-3.395925</td>\n",
              "      <td>...</td>\n",
              "      <td>-3.866280</td>\n",
              "      <td>0.335532</td>\n",
              "      <td>18</td>\n",
              "      <td>-3.644092</td>\n",
              "      <td>-3.609388</td>\n",
              "      <td>-3.970531</td>\n",
              "      <td>-4.136648</td>\n",
              "      <td>-3.604177</td>\n",
              "      <td>-3.792967</td>\n",
              "      <td>0.219614</td>\n",
              "    </tr>\n",
              "    <tr>\n",
              "      <td>24</td>\n",
              "      <td>0.001614</td>\n",
              "      <td>0.000494</td>\n",
              "      <td>0.000794</td>\n",
              "      <td>0.000397</td>\n",
              "      <td>50.0000</td>\n",
              "      <td>{'alpha': 50}</td>\n",
              "      <td>-4.156454</td>\n",
              "      <td>-4.205025</td>\n",
              "      <td>-3.537133</td>\n",
              "      <td>-3.395925</td>\n",
              "      <td>...</td>\n",
              "      <td>-3.866280</td>\n",
              "      <td>0.335532</td>\n",
              "      <td>18</td>\n",
              "      <td>-3.644092</td>\n",
              "      <td>-3.609388</td>\n",
              "      <td>-3.970531</td>\n",
              "      <td>-4.136648</td>\n",
              "      <td>-3.604177</td>\n",
              "      <td>-3.792967</td>\n",
              "      <td>0.219614</td>\n",
              "    </tr>\n",
              "    <tr>\n",
              "      <td>25</td>\n",
              "      <td>0.002008</td>\n",
              "      <td>0.000631</td>\n",
              "      <td>0.000399</td>\n",
              "      <td>0.000488</td>\n",
              "      <td>100.0000</td>\n",
              "      <td>{'alpha': 100}</td>\n",
              "      <td>-4.156454</td>\n",
              "      <td>-4.205025</td>\n",
              "      <td>-3.537133</td>\n",
              "      <td>-3.395925</td>\n",
              "      <td>...</td>\n",
              "      <td>-3.866280</td>\n",
              "      <td>0.335532</td>\n",
              "      <td>18</td>\n",
              "      <td>-3.644092</td>\n",
              "      <td>-3.609388</td>\n",
              "      <td>-3.970531</td>\n",
              "      <td>-4.136648</td>\n",
              "      <td>-3.604177</td>\n",
              "      <td>-3.792967</td>\n",
              "      <td>0.219614</td>\n",
              "    </tr>\n",
              "    <tr>\n",
              "      <td>26</td>\n",
              "      <td>0.001581</td>\n",
              "      <td>0.000479</td>\n",
              "      <td>0.000803</td>\n",
              "      <td>0.000402</td>\n",
              "      <td>500.0000</td>\n",
              "      <td>{'alpha': 500}</td>\n",
              "      <td>-4.156454</td>\n",
              "      <td>-4.205025</td>\n",
              "      <td>-3.537133</td>\n",
              "      <td>-3.395925</td>\n",
              "      <td>...</td>\n",
              "      <td>-3.866280</td>\n",
              "      <td>0.335532</td>\n",
              "      <td>18</td>\n",
              "      <td>-3.644092</td>\n",
              "      <td>-3.609388</td>\n",
              "      <td>-3.970531</td>\n",
              "      <td>-4.136648</td>\n",
              "      <td>-3.604177</td>\n",
              "      <td>-3.792967</td>\n",
              "      <td>0.219614</td>\n",
              "    </tr>\n",
              "    <tr>\n",
              "      <td>27</td>\n",
              "      <td>0.001388</td>\n",
              "      <td>0.000480</td>\n",
              "      <td>0.000793</td>\n",
              "      <td>0.000397</td>\n",
              "      <td>1000.0000</td>\n",
              "      <td>{'alpha': 1000}</td>\n",
              "      <td>-4.156454</td>\n",
              "      <td>-4.205025</td>\n",
              "      <td>-3.537133</td>\n",
              "      <td>-3.395925</td>\n",
              "      <td>...</td>\n",
              "      <td>-3.866280</td>\n",
              "      <td>0.335532</td>\n",
              "      <td>18</td>\n",
              "      <td>-3.644092</td>\n",
              "      <td>-3.609388</td>\n",
              "      <td>-3.970531</td>\n",
              "      <td>-4.136648</td>\n",
              "      <td>-3.604177</td>\n",
              "      <td>-3.792967</td>\n",
              "      <td>0.219614</td>\n",
              "    </tr>\n",
              "  </tbody>\n",
              "</table>\n",
              "<p>28 rows × 21 columns</p>\n",
              "</div>"
            ],
            "text/plain": [
              "    mean_fit_time  std_fit_time  mean_score_time  std_score_time  param_alpha  \\\n",
              "0        0.001995      0.000630         0.001196        0.000400       0.0001   \n",
              "1        0.001799      0.000401         0.000802        0.000401       0.0010   \n",
              "2        0.001601      0.000494         0.000594        0.000485       0.0100   \n",
              "3        0.001203      0.000396         0.001010        0.000017       0.0500   \n",
              "4        0.001590      0.000497         0.000604        0.000493       0.1000   \n",
              "5        0.001787      0.000393         0.000800        0.000400       0.2000   \n",
              "6        0.001987      0.000622         0.000793        0.000396       0.3000   \n",
              "7        0.001795      0.000974         0.001003        0.000013       0.4000   \n",
              "8        0.001773      0.000404         0.000408        0.000500       0.5000   \n",
              "9        0.001569      0.000490         0.000806        0.000403       0.6000   \n",
              "10       0.001578      0.000486         0.000811        0.000406       0.7000   \n",
              "11       0.002196      0.000734         0.000804        0.000402       0.8000   \n",
              "12       0.001190      0.000403         0.000997        0.000028       0.9000   \n",
              "13       0.001595      0.000495         0.000605        0.000494       1.0000   \n",
              "14       0.001980      0.000024         0.000197        0.000394       2.0000   \n",
              "15       0.001789      0.000398         0.000398        0.000487       3.0000   \n",
              "16       0.002203      0.000411         0.000204        0.000408       4.0000   \n",
              "17       0.001213      0.000406         0.000784        0.000392       5.0000   \n",
              "18       0.001397      0.000478         0.000799        0.000399       6.0000   \n",
              "19       0.001983      0.000899         0.001214        0.000393       7.0000   \n",
              "20       0.001985      0.000618         0.001191        0.000740       8.0000   \n",
              "21       0.001990      0.000627         0.000801        0.000747       9.0000   \n",
              "22       0.001601      0.000508         0.001004        0.000017      10.0000   \n",
              "23       0.001785      0.000746         0.001005        0.000011      20.0000   \n",
              "24       0.001614      0.000494         0.000794        0.000397      50.0000   \n",
              "25       0.002008      0.000631         0.000399        0.000488     100.0000   \n",
              "26       0.001581      0.000479         0.000803        0.000402     500.0000   \n",
              "27       0.001388      0.000480         0.000793        0.000397    1000.0000   \n",
              "\n",
              "               params  split0_test_score  split1_test_score  \\\n",
              "0   {'alpha': 0.0001}          -1.623682          -3.279831   \n",
              "1    {'alpha': 0.001}          -1.623824          -3.275315   \n",
              "2     {'alpha': 0.01}          -1.625448          -3.229997   \n",
              "3     {'alpha': 0.05}          -1.632663          -3.033372   \n",
              "4      {'alpha': 0.1}          -1.643105          -2.799111   \n",
              "5      {'alpha': 0.2}          -1.664726          -2.788482   \n",
              "6      {'alpha': 0.3}          -1.686347          -2.820155   \n",
              "7      {'alpha': 0.4}          -1.712886          -2.881626   \n",
              "8      {'alpha': 0.5}          -1.749590          -2.914875   \n",
              "9      {'alpha': 0.6}          -1.786293          -2.930292   \n",
              "10     {'alpha': 0.7}          -1.824228          -2.952786   \n",
              "11     {'alpha': 0.8}          -1.871696          -2.978052   \n",
              "12     {'alpha': 0.9}          -1.938238          -3.003319   \n",
              "13     {'alpha': 1.0}          -2.016176          -3.028585   \n",
              "14     {'alpha': 2.0}          -2.866689          -3.306513   \n",
              "15     {'alpha': 3.0}          -3.497085          -3.653909   \n",
              "16     {'alpha': 4.0}          -4.156454          -4.062773   \n",
              "17     {'alpha': 5.0}          -4.156454          -4.205025   \n",
              "18     {'alpha': 6.0}          -4.156454          -4.205025   \n",
              "19     {'alpha': 7.0}          -4.156454          -4.205025   \n",
              "20     {'alpha': 8.0}          -4.156454          -4.205025   \n",
              "21     {'alpha': 9.0}          -4.156454          -4.205025   \n",
              "22    {'alpha': 10.0}          -4.156454          -4.205025   \n",
              "23      {'alpha': 20}          -4.156454          -4.205025   \n",
              "24      {'alpha': 50}          -4.156454          -4.205025   \n",
              "25     {'alpha': 100}          -4.156454          -4.205025   \n",
              "26     {'alpha': 500}          -4.156454          -4.205025   \n",
              "27    {'alpha': 1000}          -4.156454          -4.205025   \n",
              "\n",
              "    split2_test_score  split3_test_score  ...  mean_test_score  \\\n",
              "0           -1.624474          -1.333355  ...        -1.956006   \n",
              "1           -1.624223          -1.332923  ...        -1.954905   \n",
              "2           -1.621260          -1.328440  ...        -1.943776   \n",
              "3           -1.610551          -1.308513  ...        -1.900400   \n",
              "4           -1.602886          -1.283604  ...        -1.850652   \n",
              "5           -1.595334          -1.249518  ...        -1.850810   \n",
              "6           -1.595072          -1.229531  ...        -1.865700   \n",
              "7           -1.598727          -1.212327  ...        -1.886659   \n",
              "8           -1.586006          -1.200614  ...        -1.901766   \n",
              "9           -1.581472          -1.186564  ...        -1.915678   \n",
              "10          -1.592509          -1.190451  ...        -1.938037   \n",
              "11          -1.603545          -1.201649  ...        -1.964348   \n",
              "12          -1.614581          -1.212848  ...        -1.994504   \n",
              "13          -1.635234          -1.225757  ...        -2.031724   \n",
              "14          -2.113314          -1.804586  ...        -2.572720   \n",
              "15          -2.598509          -2.322828  ...        -3.125254   \n",
              "16          -3.160750          -3.040654  ...        -3.690194   \n",
              "17          -3.537133          -3.395925  ...        -3.866280   \n",
              "18          -3.537133          -3.395925  ...        -3.866280   \n",
              "19          -3.537133          -3.395925  ...        -3.866280   \n",
              "20          -3.537133          -3.395925  ...        -3.866280   \n",
              "21          -3.537133          -3.395925  ...        -3.866280   \n",
              "22          -3.537133          -3.395925  ...        -3.866280   \n",
              "23          -3.537133          -3.395925  ...        -3.866280   \n",
              "24          -3.537133          -3.395925  ...        -3.866280   \n",
              "25          -3.537133          -3.395925  ...        -3.866280   \n",
              "26          -3.537133          -3.395925  ...        -3.866280   \n",
              "27          -3.537133          -3.395925  ...        -3.866280   \n",
              "\n",
              "    std_test_score  rank_test_score  split0_train_score  split1_train_score  \\\n",
              "0         0.689874               11           -1.830952           -1.554343   \n",
              "1         0.688222               10           -1.830825           -1.554067   \n",
              "2         0.671714                9           -1.829355           -1.551512   \n",
              "3         0.600549                5           -1.823159           -1.541201   \n",
              "4         0.517916                1           -1.819592           -1.529288   \n",
              "5         0.521968                2           -1.826272           -1.562404   \n",
              "6         0.538489                3           -1.845640           -1.573389   \n",
              "7         0.563956                4           -1.871217           -1.586422   \n",
              "8         0.579408                6           -1.890187           -1.599154   \n",
              "9         0.589113                7           -1.911782           -1.612424   \n",
              "10        0.595386                8           -1.940126           -1.627488   \n",
              "11        0.600665               12           -1.970015           -1.643026   \n",
              "12        0.605833               13           -2.015302           -1.664380   \n",
              "13        0.610797               14           -2.065386           -1.701557   \n",
              "14        0.543756               15           -2.586914           -2.157217   \n",
              "15        0.555218               16           -3.050825           -2.739771   \n",
              "16        0.487313               17           -3.644092           -3.374860   \n",
              "17        0.335532               18           -3.644092           -3.609388   \n",
              "18        0.335532               18           -3.644092           -3.609388   \n",
              "19        0.335532               18           -3.644092           -3.609388   \n",
              "20        0.335532               18           -3.644092           -3.609388   \n",
              "21        0.335532               18           -3.644092           -3.609388   \n",
              "22        0.335532               18           -3.644092           -3.609388   \n",
              "23        0.335532               18           -3.644092           -3.609388   \n",
              "24        0.335532               18           -3.644092           -3.609388   \n",
              "25        0.335532               18           -3.644092           -3.609388   \n",
              "26        0.335532               18           -3.644092           -3.609388   \n",
              "27        0.335532               18           -3.644092           -3.609388   \n",
              "\n",
              "    split2_train_score  split3_train_score  split4_train_score  \\\n",
              "0            -1.858919           -1.921112           -1.820559   \n",
              "1            -1.858865           -1.920939           -1.820418   \n",
              "2            -1.858268           -1.919779           -1.819191   \n",
              "3            -1.857235           -1.916898           -1.814183   \n",
              "4            -1.856786           -1.916549           -1.811250   \n",
              "5            -1.866415           -1.922907           -1.814078   \n",
              "6            -1.891985           -1.954398           -1.819268   \n",
              "7            -1.921465           -1.995483           -1.821121   \n",
              "8            -1.938238           -2.030967           -1.829055   \n",
              "9            -1.950911           -2.048291           -1.840942   \n",
              "10           -1.968716           -2.072341           -1.860208   \n",
              "11           -1.988865           -2.097845           -1.881309   \n",
              "12           -2.009389           -2.124085           -1.913264   \n",
              "13           -2.033270           -2.156255           -1.963951   \n",
              "14           -2.508072           -2.659911           -2.533999   \n",
              "15           -3.015321           -3.161783           -3.212917   \n",
              "16           -3.610451           -3.813009           -3.604177   \n",
              "17           -3.970531           -4.136648           -3.604177   \n",
              "18           -3.970531           -4.136648           -3.604177   \n",
              "19           -3.970531           -4.136648           -3.604177   \n",
              "20           -3.970531           -4.136648           -3.604177   \n",
              "21           -3.970531           -4.136648           -3.604177   \n",
              "22           -3.970531           -4.136648           -3.604177   \n",
              "23           -3.970531           -4.136648           -3.604177   \n",
              "24           -3.970531           -4.136648           -3.604177   \n",
              "25           -3.970531           -4.136648           -3.604177   \n",
              "26           -3.970531           -4.136648           -3.604177   \n",
              "27           -3.970531           -4.136648           -3.604177   \n",
              "\n",
              "    mean_train_score  std_train_score  \n",
              "0          -1.797177         0.126355  \n",
              "1          -1.797023         0.126410  \n",
              "2          -1.795621         0.126982  \n",
              "3          -1.790535         0.129775  \n",
              "4          -1.786693         0.133954  \n",
              "5          -1.798415         0.123971  \n",
              "6          -1.816936         0.130133  \n",
              "7          -1.839142         0.138882  \n",
              "8          -1.857520         0.145072  \n",
              "9          -1.872870         0.146444  \n",
              "10         -1.893776         0.149456  \n",
              "11         -1.916212         0.152979  \n",
              "12         -1.945284         0.155508  \n",
              "13         -1.984084         0.154207  \n",
              "14         -2.489223         0.173934  \n",
              "15         -3.036124         0.164633  \n",
              "16         -3.609318         0.139784  \n",
              "17         -3.792967         0.219614  \n",
              "18         -3.792967         0.219614  \n",
              "19         -3.792967         0.219614  \n",
              "20         -3.792967         0.219614  \n",
              "21         -3.792967         0.219614  \n",
              "22         -3.792967         0.219614  \n",
              "23         -3.792967         0.219614  \n",
              "24         -3.792967         0.219614  \n",
              "25         -3.792967         0.219614  \n",
              "26         -3.792967         0.219614  \n",
              "27         -3.792967         0.219614  \n",
              "\n",
              "[28 rows x 21 columns]"
            ]
          },
          "metadata": {
            "tags": []
          },
          "execution_count": 52
        }
      ]
    },
    {
      "cell_type": "code",
      "metadata": {
        "id": "VjpYWMuLYZd7",
        "outputId": "0254b934-4211-4661-a88e-f7d058f7dc14"
      },
      "source": [
        "lasso = Lasso(alpha = 0.1) \n",
        "lasso.fit(X_train, y_train) \n",
        "Y_pred1 = lasso.predict(X_train) \n",
        "\n",
        "#Printing Lasso Coefficients\n",
        "print('Lasso Coefficients',lasso.coef_,sep='\\n')\n",
        "  \n",
        "# Calculate Mean Squared Error \n",
        "mean_squared_error = np.mean((Y_pred1 - y_train)**2) \n",
        "print(\"Mean squared error on train set\", mean_squared_error) \n",
        "\n",
        "Y_pred2 = lasso.predict(X_test) \n",
        "mean_squared_error1 = np.mean((Y_pred2 - y_test)**2) \n",
        "\n",
        "print(\"Mean squared error on test set\", mean_squared_error1)"
      ],
      "execution_count": null,
      "outputs": [
        {
          "output_type": "stream",
          "text": [
            "Lasso Coefficients\n",
            "[ 2.508523   -0.29428438  2.02843619  1.34395783  0.20211723]\n",
            "Mean squared error on train set 9.293386945837502\n",
            "Mean squared error on test set 10.99298676683838\n"
          ],
          "name": "stdout"
        }
      ]
    },
    {
      "cell_type": "markdown",
      "metadata": {
        "id": "dAgWVnMWYZd7"
      },
      "source": [
        "### Mean square error on test set almost equal train set"
      ]
    }
  ]
}